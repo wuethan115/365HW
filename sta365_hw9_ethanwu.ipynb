{
  "cells": [
    {
      "cell_type": "markdown",
      "id": "adefed38",
      "metadata": {
        "id": "adefed38"
      },
      "source": [
        "## Week 11 Homework (9)\n",
        "\n",
        "### Q1: copulas\n",
        "\n",
        "2. Repeat the exercise using instead a two pass approach in the manner of https://www.pymc.io/projects/examples/en/latest/howto/copula-estimation.html\n",
        "3. Describe what a copula is and how the two verions of code implement it\n",
        "4. Describe how to use this to create arbitrary multivariate GLM regressions"
      ]
    },
    {
      "cell_type": "code",
      "source": [
        "# Q1.2 Answer\n",
        "\n",
        "import numpy as np\n",
        "from scipy import stats\n",
        "import matplotlib.pyplot as plt\n",
        "\n",
        "p = 3\n",
        "#Psi = np.eye(p)\n",
        "#a_cov = stats.invwishart(df=p+2, scale=Psi).rvs()\n",
        "a_cor = (np.ones((p,p))*9+np.diag((1,1,1)))/10\n",
        "a_cor[0,-1] -= 0.15\n",
        "a_cor[-1,0] -= 0.15\n",
        "\n",
        "n = 100\n",
        "x = stats.multivariate_normal(mean=np.zeros(p), cov=a_cor).rvs(size=n)\n",
        "plt.imshow(a_cor)\n",
        "plt.colorbar();"
      ],
      "metadata": {
        "colab": {
          "base_uri": "https://localhost:8080/",
          "height": 435
        },
        "id": "pKmr76X5cl3q",
        "outputId": "626a33d5-02b5-409d-a770-aab5013c6d5f"
      },
      "id": "pKmr76X5cl3q",
      "execution_count": 4,
      "outputs": [
        {
          "output_type": "display_data",
          "data": {
            "text/plain": [
              "<Figure size 640x480 with 2 Axes>"
            ],
            "image/png": "[encoded data removed]"
          },
          "metadata": {}
        }
      ]
    },
    {
      "cell_type": "code",
      "source": [
        "# Q1.2 Answer\n",
        "\n",
        "y = x.copy()\n",
        "y[:,0] = stats.gamma(a=5).ppf(stats.norm().cdf(x[:,0]))\n",
        "y[:,1] = stats.expon(scale=1).ppf(stats.norm().cdf(x[:,1]))\n",
        "y[:,2] = stats.chi2(df=10).ppf(stats.norm().cdf(x[:,2]))"
      ],
      "metadata": {
        "id": "9zvpsafNcYLd"
      },
      "id": "9zvpsafNcYLd",
      "execution_count": 6,
      "outputs": []
    },
    {
      "cell_type": "code",
      "source": [
        "# Q1.2 Answer\n",
        "\n",
        "import pymc as pm\n",
        "import arviz as az\n",
        "\n",
        "with pm.Model() as marginal_model:\n",
        "    # Gamma marginal\n",
        "    p0 = pm.HalfNormal('p0', sigma=10)\n",
        "    y0 = pm.Gamma('y0', alpha=p0, beta=1, observed=y[:, 0])\n",
        "\n",
        "    # Exponential marginal\n",
        "    p1 = pm.HalfNormal('p1', sigma=10)\n",
        "    y1 = pm.Exponential('y1', lam=p1, observed=y[:, 1])\n",
        "\n",
        "    # Chi-squared marginal\n",
        "    p2 = pm.HalfNormal('p2', sigma=10)\n",
        "    y2 = pm.ChiSquared('y2', nu=p2, observed=y[:, 2])\n",
        "\n",
        "    trace_marginals = pm.sample()\n"
      ],
      "metadata": {
        "colab": {
          "base_uri": "https://localhost:8080/",
          "height": 116,
          "referenced_widgets": [
            "b531af740af440a0b46c3dac87e97d14",
            "96a76f4db714417e8a2046f63f52eb73"
          ]
        },
        "id": "AuKGdOvhLaKF",
        "outputId": "9ca8d58b-1c69-4ecc-9d62-2c8c67544be7"
      },
      "id": "AuKGdOvhLaKF",
      "execution_count": 7,
      "outputs": [
        {
          "output_type": "display_data",
          "data": {
            "text/plain": [
              "Output()"
            ],
            "application/vnd.jupyter.widget-view+json": {
              "version_major": 2,
              "version_minor": 0,
              "model_id": "b531af740af440a0b46c3dac87e97d14"
            }
          },
          "metadata": {}
        },
        {
          "output_type": "display_data",
          "data": {
            "text/plain": [],
            "text/html": [
              "<pre style=\"white-space:pre;overflow-x:auto;line-height:normal;font-family:Menlo,'DejaVu Sans Mono',consolas,'Courier New',monospace\"></pre>\n"
            ]
          },
          "metadata": {}
        }
      ]
    },
    {
      "cell_type": "code",
      "source": [
        "# Q1.2 Answer\n",
        "\n",
        "post_means = az.summary(trace_marginals, var_names=[\"p0\", \"p1\", \"p2\"])[\"mean\"]\n",
        "p0_mean, p1_mean, p2_mean = post_means\n",
        "\n",
        "# Transform y into copula-normal space using inverse CDF (probit transform)\n",
        "from scipy.stats import norm, gamma, expon, chi2\n",
        "\n",
        "u0 = gamma(a=p0_mean).cdf(y[:, 0])\n",
        "u1 = expon(scale=1/p1_mean).cdf(y[:, 1])\n",
        "u2 = chi2(df=p2_mean).cdf(y[:, 2])\n",
        "\n",
        "z = np.column_stack([norm.ppf(u0), norm.ppf(u1), norm.ppf(u2)])"
      ],
      "metadata": {
        "id": "0lfg5fvPLeIt"
      },
      "id": "0lfg5fvPLeIt",
      "execution_count": 8,
      "outputs": []
    },
    {
      "cell_type": "code",
      "source": [
        "# Q1.2 Answer\n",
        "\n",
        "with pm.Model() as copula_model:\n",
        "    L, R, stds = pm.LKJCholeskyCov(\"R\", n=3, eta=2.0,\n",
        "                                   sd_dist=pm.Exponential.dist(1.0, shape=3),\n",
        "                                   compute_corr=True)\n",
        "    copula = pm.MvNormal(\"copula\", mu=np.zeros(3), chol=L, observed=z)\n",
        "    trace_copula = pm.sample()\n"
      ],
      "metadata": {
        "colab": {
          "base_uri": "https://localhost:8080/",
          "height": 166,
          "referenced_widgets": [
            "f723c3e60b7f47f3821c3a386031e419",
            "99c7fd9f0e1f474ebbb7b14c8034442b"
          ]
        },
        "id": "ePPnKXdwLfjI",
        "outputId": "138a0d24-00be-4cfc-f636-88b633167b17"
      },
      "id": "ePPnKXdwLfjI",
      "execution_count": 9,
      "outputs": [
        {
          "output_type": "display_data",
          "data": {
            "text/plain": [
              "Output()"
            ],
            "application/vnd.jupyter.widget-view+json": {
              "version_major": 2,
              "version_minor": 0,
              "model_id": "f723c3e60b7f47f3821c3a386031e419"
            }
          },
          "metadata": {}
        },
        {
          "output_type": "display_data",
          "data": {
            "text/plain": [
              "/usr/local/lib/python3.11/dist-packages/pytensor/compile/function/types.py:1037: RuntimeWarning: invalid value \n",
              "encountered in accumulate\n",
              "  outputs = vm() if output_subset is None else vm(output_subset=output_subset)\n"
            ],
            "text/html": [
              "<pre style=\"white-space:pre;overflow-x:auto;line-height:normal;font-family:Menlo,'DejaVu Sans Mono',consolas,'Courier New',monospace\">/usr/local/lib/python3.11/dist-packages/pytensor/compile/function/types.py:1037: RuntimeWarning: invalid value \n",
              "encountered in accumulate\n",
              "  outputs = vm() if output_subset is None else vm(output_subset=output_subset)\n",
              "</pre>\n"
            ]
          },
          "metadata": {}
        },
        {
          "output_type": "display_data",
          "data": {
            "text/plain": [],
            "text/html": [
              "<pre style=\"white-space:pre;overflow-x:auto;line-height:normal;font-family:Menlo,'DejaVu Sans Mono',consolas,'Courier New',monospace\"></pre>\n"
            ]
          },
          "metadata": {}
        }
      ]
    },
    {
      "cell_type": "code",
      "source": [
        "# Q1.2 Answer\n",
        "\n",
        "# Get posterior samples of R_corr\n",
        "corr_post = trace_copula.posterior[\"R_corr\"].stack(samples=(\"chain\", \"draw\")).values\n",
        "\n",
        "# Focus on unique off-diagonal pairs\n",
        "pairs = [(0, 1), (0, 2), (1, 2)]\n",
        "\n",
        "import arviz as az\n",
        "import numpy as np\n",
        "\n",
        "# Extract and compute 95% HDIs for each correlation pair\n",
        "hdi_corr_intervals = {}\n",
        "for i, j in pairs:\n",
        "    samples_ij = corr_post[:, i, j]  # shape: (n_samples,)\n",
        "    hdi_ij = az.hdi(samples_ij, hdi_prob=0.95)\n",
        "    hdi_corr_intervals[f\"({i},{j})\"] = hdi_ij\n",
        "\n",
        "# Print nicely formatted results\n",
        "for pair, interval in hdi_corr_intervals.items():\n",
        "    lower, upper = interval\n",
        "    print(f\"95% HDI for correlation {pair}: [{lower:.3f}, {upper:.3f}]\")\n",
        "\n"
      ],
      "metadata": {
        "colab": {
          "base_uri": "https://localhost:8080/"
        },
        "id": "elENegWsLqSA",
        "outputId": "56628718-875b-499c-d738-f246cf8259e9"
      },
      "id": "elENegWsLqSA",
      "execution_count": 12,
      "outputs": [
        {
          "output_type": "stream",
          "name": "stdout",
          "text": [
            "95% HDI for correlation (0,1): [0.640, 1.000]\n",
            "95% HDI for correlation (0,2): [0.639, 1.000]\n",
            "95% HDI for correlation (1,2): [0.873, 1.000]\n"
          ]
        }
      ]
    },
    {
      "cell_type": "markdown",
      "source": [
        "### Q1.3 Answer\n",
        "\n",
        "---\n",
        "\n",
        "A copula is a function that models the joint distribution of multiple random variables by separately modeling their marginal distributions and their dependence structure. It allows for the modeling of complex dependence structures separately from the marginals. Copulas are useful when variables are not normally distributed or have different marginal distributions.\n",
        "\n",
        "From Sklar's Theorem, any multivariate joint distribution can be decomposed into its marginal CDF components, and a copula function that combines them. We have the following:\n",
        "\n",
        "$F(x_1,\\dots,x_n)=C(F_1(x_1),\\dots,F_n(x_n))$\n",
        "\n",
        "The original single-pass code functions as follows: it transforms the non-normal marginals to standard normal marginals using their known distributions. It then applies a multivariate normal copula directly to these transformed marginals -- estimation and copula are done in one PyMC model.\n",
        "\n",
        "The new two-pass code first estimates the marginal parameters separately in the first pass. Then, in the second pass, the inverse-CDF transformation to the standard normal is used. Finally, a copula is fit to the transformed data using an LKJ prior over the correlation matrix. Inference is then performed on the latent normal scale (the copula space). This two-pass process allows for arbitrary marginal distributions to be paired with a flexible model.\n",
        "\n",
        "---"
      ],
      "metadata": {
        "id": "IiTRl_yAL2Ff"
      },
      "id": "IiTRl_yAL2Ff"
    },
    {
      "cell_type": "markdown",
      "source": [
        "### Q1.4 Answer\n",
        "\n",
        "---\n",
        "\n",
        "Copulas can enable the creation of arbitrary multivariate GLM models by decoupling the modeling of marginal distributions from the modeling of variable dependencies. First, each marginal distribution is modeled with a GLM, and parameters (e.g. mean, variance, rate) are predicted from the covariates. Thus each output variable can follow an appropraite distribution, depending on the nature and context of the data.\n",
        "\n",
        "Once the marginal distributions have been modeled and their CDFs have been found, each observation is transformed to the copula scale -- this involves mapping each marginal observation to its probability through its CDF, then transforming that probability into a z-score (standard normal score) using the inverse CDF transformation. The, the resulting transformed variables can be jointly modeled using a multivariate normal copula. The dependency structure here is captured by a latent MVN distribution.\n",
        "\n",
        "---"
      ],
      "metadata": {
        "id": "ur3Dqy4hNHYT"
      },
      "id": "ur3Dqy4hNHYT"
    },
    {
      "cell_type": "markdown",
      "id": "4fb61653",
      "metadata": {
        "id": "4fb61653"
      },
      "source": [
        "### Q2: Variable Selection using Spike and Slab\n",
        "\n",
        "Perform multivarite regression (or multivariate probit classification) with spike and slab variable selection priors and compare inference to analagous inference with diffuse normal priors (imposing minimal L2 style regularization on the likelihood).\n",
        "\n",
        "You may artificially limit the size of your data to reduce the computational demands, but if you do so, discuss the behavior of the computational demands with respect to the number of observations $n$, the number of random variables $m$ making up the multivariate observations, and the number of columns of the design matrix $p$.\n",
        "\n"
      ]
    },
    {
      "cell_type": "code",
      "source": [
        "# Q2 Answer\n",
        "\n",
        "import numpy as np\n",
        "\n",
        "# Set dimensions\n",
        "n, p, m = 100, 10, 3  # 100 samples, 10 predictors, 3 response variables\n",
        "\n",
        "# Design matrix\n",
        "X = np.random.randn(n, p)\n",
        "\n",
        "# True sparse weights (spike-and-slab ground truth)\n",
        "true_beta = np.zeros((p, m))\n",
        "true_beta[[1, 3, 6], :] = np.random.randn(3, m)  # Only 3 relevant predictors\n",
        "\n",
        "# Generate responses with some noise\n",
        "Y = X @ true_beta + np.random.randn(n, m) * 0.5\n"
      ],
      "metadata": {
        "id": "rYLKtdxdOEM_"
      },
      "id": "rYLKtdxdOEM_",
      "execution_count": 13,
      "outputs": []
    },
    {
      "cell_type": "code",
      "source": [
        "# Q2 Answer\n",
        "\n",
        "import pymc as pm\n",
        "import pytensor.tensor as at\n",
        "\n",
        "with pm.Model() as spike_slab_model:\n",
        "    slab_sd = pm.HalfNormal(\"slab_sd\", sigma=1.0)\n",
        "\n",
        "    # Inclusion indicator (spike or slab)\n",
        "    z = pm.Bernoulli(\"z\", p=0.5, shape=(p, m))\n",
        "\n",
        "    # Regression coefficients (slab prior)\n",
        "    beta_raw = pm.Normal(\"beta_raw\", mu=0, sigma=slab_sd, shape=(p, m))\n",
        "    beta = pm.Deterministic(\"beta\", z * beta_raw)\n",
        "\n",
        "    sigma = pm.HalfNormal(\"sigma\", sigma=1.0, shape=m)\n",
        "\n",
        "    # Likelihood\n",
        "    mu = at.dot(X, beta)\n",
        "    y_obs = pm.Normal(\"y_obs\", mu=mu, sigma=sigma, observed=Y)\n",
        "\n",
        "    spike_slab_trace = pm.sample(target_accept=0.9)\n"
      ],
      "metadata": {
        "colab": {
          "base_uri": "https://localhost:8080/",
          "height": 152,
          "referenced_widgets": [
            "e581d1db487241d8b7e0d594827de8c3",
            "693198e30def4a2c9324fd90ece62030"
          ]
        },
        "id": "rYYacGniOIMQ",
        "outputId": "5a22bdc9-4067-4e50-b852-a07bdb0dfce5"
      },
      "id": "rYYacGniOIMQ",
      "execution_count": 15,
      "outputs": [
        {
          "output_type": "display_data",
          "data": {
            "text/plain": [
              "Output()"
            ],
            "application/vnd.jupyter.widget-view+json": {
              "version_major": 2,
              "version_minor": 0,
              "model_id": "e581d1db487241d8b7e0d594827de8c3"
            }
          },
          "metadata": {}
        },
        {
          "output_type": "display_data",
          "data": {
            "text/plain": [],
            "text/html": [
              "<pre style=\"white-space:pre;overflow-x:auto;line-height:normal;font-family:Menlo,'DejaVu Sans Mono',consolas,'Courier New',monospace\"></pre>\n"
            ]
          },
          "metadata": {}
        },
        {
          "output_type": "stream",
          "name": "stderr",
          "text": [
            "/usr/local/lib/python3.11/dist-packages/arviz/stats/diagnostics.py:596: RuntimeWarning: invalid value encountered in scalar divide\n",
            "  (between_chain_variance / within_chain_variance + num_samples - 1) / (num_samples)\n"
          ]
        }
      ]
    },
    {
      "cell_type": "code",
      "source": [
        "# Q2 Answer\n",
        "\n",
        "with pm.Model() as l2_model:\n",
        "    beta = pm.Normal(\"beta\", mu=0, sigma=10.0, shape=(p, m))\n",
        "    sigma = pm.HalfNormal(\"sigma\", sigma=1.0, shape=m)\n",
        "\n",
        "    mu = at.dot(X, beta)\n",
        "    y_obs = pm.Normal(\"y_obs\", mu=mu, sigma=sigma, observed=Y)\n",
        "\n",
        "    l2_trace = pm.sample(target_accept=0.9)\n",
        "\n",
        "import arviz as az\n",
        "\n",
        "posterior_z = spike_slab_trace.posterior['z'].mean(dim=(\"chain\", \"draw\")).values\n",
        "print(\"Posterior inclusion probabilities (z):\\n\", np.round(posterior_z, 2))\n"
      ],
      "metadata": {
        "colab": {
          "base_uri": "https://localhost:8080/",
          "height": 312,
          "referenced_widgets": [
            "855cabd8b7a042cdb7292bf39e98657a",
            "d2e5c85627ea4029b4053f7629b068f0"
          ]
        },
        "id": "IioZSVBVOMnT",
        "outputId": "53e06403-d218-47ef-b5f5-8c7bebc655ac"
      },
      "id": "IioZSVBVOMnT",
      "execution_count": 16,
      "outputs": [
        {
          "output_type": "display_data",
          "data": {
            "text/plain": [
              "Output()"
            ],
            "application/vnd.jupyter.widget-view+json": {
              "version_major": 2,
              "version_minor": 0,
              "model_id": "855cabd8b7a042cdb7292bf39e98657a"
            }
          },
          "metadata": {}
        },
        {
          "output_type": "display_data",
          "data": {
            "text/plain": [],
            "text/html": [
              "<pre style=\"white-space:pre;overflow-x:auto;line-height:normal;font-family:Menlo,'DejaVu Sans Mono',consolas,'Courier New',monospace\"></pre>\n"
            ]
          },
          "metadata": {}
        },
        {
          "output_type": "stream",
          "name": "stdout",
          "text": [
            "Posterior inclusion probabilities (z):\n",
            " [[0.06 0.27 0.05]\n",
            " [1.   1.   1.  ]\n",
            " [0.06 0.08 0.06]\n",
            " [1.   1.   1.  ]\n",
            " [0.05 0.09 0.05]\n",
            " [0.06 0.06 0.36]\n",
            " [1.   1.   1.  ]\n",
            " [0.1  0.06 0.11]\n",
            " [0.28 0.06 0.06]\n",
            " [0.08 0.14 0.45]]\n"
          ]
        }
      ]
    },
    {
      "cell_type": "markdown",
      "source": [
        "### Inference Comparison\n",
        "\n",
        "---\n",
        "\n",
        "In this analysis, multivariate regression was implemented with both spike-and-slab priors and diffuse normal priors. The spike-and-slab approach performed variable selection through latent binary inclusion indicators, and identified relevant predictors with high posterior inclusion probabilities. The diffuse normal model, on the other hand, kept all predictors in the model -- therefore no variable selection was performed in this context, but regularized estimates were produced.\n",
        "\n",
        "The spike-and-slab model is more computationally intensive, but offers improved interpretability and sparsity of variables as a result. This is beneficial in settings where variable selection is needed.\n",
        "\n",
        "---"
      ],
      "metadata": {
        "id": "un_TPK-jOxV0"
      },
      "id": "un_TPK-jOxV0"
    },
    {
      "cell_type": "markdown",
      "id": "f5d1cafb",
      "metadata": {
        "id": "f5d1cafb"
      },
      "source": [
        "### Q3 Variable Selection\n",
        "\n",
        "Perform multivarite regression (or multivariate probit classification) with the horseshoe variable selection prior and compare inference to analagous inference with spike and slab priors.\n",
        "\n",
        "The horseshoe variable selection prior is introduced here\n",
        "- https://www.pymc.io/projects/docs/en/v5.6.0/learn/core_notebooks/pymc_overview.html\n",
        "- and searches for \"horseshoe prior pymc\" on google produce additional examples\n",
        "\n"
      ]
    },
    {
      "cell_type": "code",
      "source": [
        "# Q3 Answer\n",
        "\n",
        "import numpy as np\n",
        "n, p, m = 100, 10, 3\n",
        "X = np.random.randn(n, p)\n",
        "\n",
        "# Sparse true coefficients\n",
        "true_beta = np.zeros((p, m))\n",
        "true_beta[[1, 3, 6], :] = np.random.randn(3, m)\n",
        "Y = X @ true_beta + np.random.randn(n, m) * 0.5\n"
      ],
      "metadata": {
        "id": "5LXZRmfZPo_Y"
      },
      "id": "5LXZRmfZPo_Y",
      "execution_count": 17,
      "outputs": []
    },
    {
      "cell_type": "code",
      "source": [
        "# Q3 Answer\n",
        "\n",
        "import pymc as pm\n",
        "import pytensor.tensor as at\n",
        "\n",
        "with pm.Model() as horseshoe_model:\n",
        "    tau = pm.HalfCauchy(\"tau\", beta=1)\n",
        "\n",
        "    # Local shrinkage per beta_ij\n",
        "    lam = pm.HalfCauchy(\"lambda\", beta=1, shape=(p, m))\n",
        "\n",
        "    # Coefficients\n",
        "    beta = pm.Normal(\"beta\", mu=0, sigma=tau * lam, shape=(p, m))\n",
        "\n",
        "    # Observation noise\n",
        "    sigma = pm.HalfNormal(\"sigma\", sigma=1.0, shape=m)\n",
        "\n",
        "    mu = at.dot(X, beta)\n",
        "    y_obs = pm.Normal(\"y_obs\", mu=mu, sigma=sigma, observed=Y)\n",
        "\n",
        "    horseshoe_trace = pm.sample(target_accept=0.9)\n",
        "\n",
        "import arviz as az\n",
        "\n",
        "az.summary(horseshoe_trace, var_names=[\"beta\"], hdi_prob=0.95)"
      ],
      "metadata": {
        "colab": {
          "base_uri": "https://localhost:8080/",
          "height": 1000,
          "referenced_widgets": [
            "4ee526c6e5bd460a8b40d28274f4e5fe",
            "2aa938d2c1e94df3b7809ec804458275"
          ]
        },
        "id": "H_maEPtxPsjM",
        "outputId": "e174eaa7-9114-416e-c66e-09040c62c944"
      },
      "id": "H_maEPtxPsjM",
      "execution_count": 19,
      "outputs": [
        {
          "output_type": "display_data",
          "data": {
            "text/plain": [
              "Output()"
            ],
            "application/vnd.jupyter.widget-view+json": {
              "version_major": 2,
              "version_minor": 0,
              "model_id": "4ee526c6e5bd460a8b40d28274f4e5fe"
            }
          },
          "metadata": {}
        },
        {
          "output_type": "display_data",
          "data": {
            "text/plain": [],
            "text/html": [
              "<pre style=\"white-space:pre;overflow-x:auto;line-height:normal;font-family:Menlo,'DejaVu Sans Mono',consolas,'Courier New',monospace\"></pre>\n"
            ]
          },
          "metadata": {}
        },
        {
          "output_type": "stream",
          "name": "stderr",
          "text": [
            "ERROR:pymc.stats.convergence:There were 379 divergences after tuning. Increase `target_accept` or reparameterize.\n",
            "ERROR:pymc.stats.convergence:The effective sample size per chain is smaller than 100 for some parameters.  A higher number is needed for reliable rhat and ess computation. See https://arxiv.org/abs/1903.08008 for details\n"
          ]
        },
        {
          "output_type": "execute_result",
          "data": {
            "text/plain": [
              "             mean     sd  hdi_2.5%  hdi_97.5%  mcse_mean  mcse_sd  ess_bulk  \\\n",
              "beta[0, 0] -0.027  0.042    -0.118      0.054      0.002    0.002     588.0   \n",
              "beta[0, 1]  0.016  0.035    -0.047      0.101      0.001    0.001     808.0   \n",
              "beta[0, 2]  0.024  0.033    -0.038      0.093      0.001    0.001    1000.0   \n",
              "beta[1, 0] -0.133  0.060    -0.244     -0.024      0.010    0.002      46.0   \n",
              "beta[1, 1]  0.502  0.048     0.403      0.585      0.005    0.001     106.0   \n",
              "beta[1, 2]  0.821  0.042     0.745      0.904      0.003    0.001     271.0   \n",
              "beta[2, 0] -0.023  0.044    -0.119      0.058      0.003    0.001     183.0   \n",
              "beta[2, 1]  0.025  0.039    -0.051      0.110      0.001    0.001     764.0   \n",
              "beta[2, 2] -0.001  0.039    -0.071      0.075      0.006    0.003      44.0   \n",
              "beta[3, 0]  1.805  0.055     1.702      1.927      0.003    0.002     349.0   \n",
              "beta[3, 1]  0.033  0.047    -0.041      0.121      0.009    0.004      39.0   \n",
              "beta[3, 2]  1.288  0.042     1.206      1.372      0.002    0.001     662.0   \n",
              "beta[4, 0]  0.021  0.042    -0.052      0.114      0.002    0.002     505.0   \n",
              "beta[4, 1]  0.045  0.046    -0.028      0.148      0.002    0.001     744.0   \n",
              "beta[4, 2] -0.056  0.044    -0.139      0.018      0.003    0.001     259.0   \n",
              "beta[5, 0] -0.037  0.049    -0.130      0.049      0.004    0.001     170.0   \n",
              "beta[5, 1]  0.110  0.062    -0.009      0.216      0.008    0.002      56.0   \n",
              "beta[5, 2] -0.026  0.039    -0.108      0.046      0.001    0.001    1243.0   \n",
              "beta[6, 0] -1.370  0.064    -1.495     -1.252      0.004    0.002     246.0   \n",
              "beta[6, 1] -1.631  0.060    -1.740     -1.526      0.010    0.006      49.0   \n",
              "beta[6, 2] -0.490  0.050    -0.603     -0.399      0.003    0.003     330.0   \n",
              "beta[7, 0] -0.049  0.053    -0.162      0.034      0.002    0.001     634.0   \n",
              "beta[7, 1] -0.020  0.039    -0.104      0.050      0.001    0.001     939.0   \n",
              "beta[7, 2]  0.013  0.034    -0.053      0.083      0.002    0.001     260.0   \n",
              "beta[8, 0]  0.013  0.044    -0.068      0.110      0.002    0.002     322.0   \n",
              "beta[8, 1] -0.014  0.048    -0.116      0.061      0.011    0.008      26.0   \n",
              "beta[8, 2] -0.037  0.042    -0.132      0.027      0.002    0.002     451.0   \n",
              "beta[9, 0]  0.064  0.056    -0.028      0.167      0.005    0.001     199.0   \n",
              "beta[9, 1]  0.101  0.063    -0.017      0.210      0.005    0.006     307.0   \n",
              "beta[9, 2]  0.002  0.035    -0.068      0.082      0.001    0.001     915.0   \n",
              "\n",
              "            ess_tail  r_hat  \n",
              "beta[0, 0]     726.0   1.01  \n",
              "beta[0, 1]     908.0   1.01  \n",
              "beta[0, 2]     760.0   1.02  \n",
              "beta[1, 0]     677.0   1.04  \n",
              "beta[1, 1]    1174.0   1.02  \n",
              "beta[1, 2]     129.0   1.00  \n",
              "beta[2, 0]     974.0   1.02  \n",
              "beta[2, 1]     797.0   1.01  \n",
              "beta[2, 2]      59.0   1.04  \n",
              "beta[3, 0]    1124.0   1.01  \n",
              "beta[3, 1]      96.0   1.04  \n",
              "beta[3, 2]     781.0   1.02  \n",
              "beta[4, 0]     762.0   1.01  \n",
              "beta[4, 1]    1097.0   1.01  \n",
              "beta[4, 2]    1102.0   1.01  \n",
              "beta[5, 0]     187.0   1.02  \n",
              "beta[5, 1]     622.0   1.03  \n",
              "beta[5, 2]    1257.0   1.01  \n",
              "beta[6, 0]     725.0   1.01  \n",
              "beta[6, 1]      52.0   1.04  \n",
              "beta[6, 2]     111.0   1.03  \n",
              "beta[7, 0]    1259.0   1.00  \n",
              "beta[7, 1]    1231.0   1.01  \n",
              "beta[7, 2]    1018.0   1.01  \n",
              "beta[8, 0]     846.0   1.01  \n",
              "beta[8, 1]      18.0   1.06  \n",
              "beta[8, 2]    1144.0   1.00  \n",
              "beta[9, 0]    1065.0   1.02  \n",
              "beta[9, 1]     121.0   1.04  \n",
              "beta[9, 2]    1075.0   1.05  "
            ],
            "text/html": [
              "\n",
              "  <div id=\"df-e2929830-ec20-43dd-aa51-2432a04026d6\" class=\"colab-df-container\">\n",
              "    <div>\n",
              "<style scoped>\n",
              "    .dataframe tbody tr th:only-of-type {\n",
              "        vertical-align: middle;\n",
              "    }\n",
              "\n",
              "    .dataframe tbody tr th {\n",
              "        vertical-align: top;\n",
              "    }\n",
              "\n",
              "    .dataframe thead th {\n",
              "        text-align: right;\n",
              "    }\n",
              "</style>\n",
              "<table border=\"1\" class=\"dataframe\">\n",
              "  <thead>\n",
              "    <tr style=\"text-align: right;\">\n",
              "      <th></th>\n",
              "      <th>mean</th>\n",
              "      <th>sd</th>\n",
              "      <th>hdi_2.5%</th>\n",
              "      <th>hdi_97.5%</th>\n",
              "      <th>mcse_mean</th>\n",
              "      <th>mcse_sd</th>\n",
              "      <th>ess_bulk</th>\n",
              "      <th>ess_tail</th>\n",
              "      <th>r_hat</th>\n",
              "    </tr>\n",
              "  </thead>\n",
              "  <tbody>\n",
              "    <tr>\n",
              "      <th>beta[0, 0]</th>\n",
              "      <td>-0.027</td>\n",
              "      <td>0.042</td>\n",
              "      <td>-0.118</td>\n",
              "      <td>0.054</td>\n",
              "      <td>0.002</td>\n",
              "      <td>0.002</td>\n",
              "      <td>588.0</td>\n",
              "      <td>726.0</td>\n",
              "      <td>1.01</td>\n",
              "    </tr>\n",
              "    <tr>\n",
              "      <th>beta[0, 1]</th>\n",
              "      <td>0.016</td>\n",
              "      <td>0.035</td>\n",
              "      <td>-0.047</td>\n",
              "      <td>0.101</td>\n",
              "      <td>0.001</td>\n",
              "      <td>0.001</td>\n",
              "      <td>808.0</td>\n",
              "      <td>908.0</td>\n",
              "      <td>1.01</td>\n",
              "    </tr>\n",
              "    <tr>\n",
              "      <th>beta[0, 2]</th>\n",
              "      <td>0.024</td>\n",
              "      <td>0.033</td>\n",
              "      <td>-0.038</td>\n",
              "      <td>0.093</td>\n",
              "      <td>0.001</td>\n",
              "      <td>0.001</td>\n",
              "      <td>1000.0</td>\n",
              "      <td>760.0</td>\n",
              "      <td>1.02</td>\n",
              "    </tr>\n",
              "    <tr>\n",
              "      <th>beta[1, 0]</th>\n",
              "      <td>-0.133</td>\n",
              "      <td>0.060</td>\n",
              "      <td>-0.244</td>\n",
              "      <td>-0.024</td>\n",
              "      <td>0.010</td>\n",
              "      <td>0.002</td>\n",
              "      <td>46.0</td>\n",
              "      <td>677.0</td>\n",
              "      <td>1.04</td>\n",
              "    </tr>\n",
              "    <tr>\n",
              "      <th>beta[1, 1]</th>\n",
              "      <td>0.502</td>\n",
              "      <td>0.048</td>\n",
              "      <td>0.403</td>\n",
              "      <td>0.585</td>\n",
              "      <td>0.005</td>\n",
              "      <td>0.001</td>\n",
              "      <td>106.0</td>\n",
              "      <td>1174.0</td>\n",
              "      <td>1.02</td>\n",
              "    </tr>\n",
              "    <tr>\n",
              "      <th>beta[1, 2]</th>\n",
              "      <td>0.821</td>\n",
              "      <td>0.042</td>\n",
              "      <td>0.745</td>\n",
              "      <td>0.904</td>\n",
              "      <td>0.003</td>\n",
              "      <td>0.001</td>\n",
              "      <td>271.0</td>\n",
              "      <td>129.0</td>\n",
              "      <td>1.00</td>\n",
              "    </tr>\n",
              "    <tr>\n",
              "      <th>beta[2, 0]</th>\n",
              "      <td>-0.023</td>\n",
              "      <td>0.044</td>\n",
              "      <td>-0.119</td>\n",
              "      <td>0.058</td>\n",
              "      <td>0.003</td>\n",
              "      <td>0.001</td>\n",
              "      <td>183.0</td>\n",
              "      <td>974.0</td>\n",
              "      <td>1.02</td>\n",
              "    </tr>\n",
              "    <tr>\n",
              "      <th>beta[2, 1]</th>\n",
              "      <td>0.025</td>\n",
              "      <td>0.039</td>\n",
              "      <td>-0.051</td>\n",
              "      <td>0.110</td>\n",
              "      <td>0.001</td>\n",
              "      <td>0.001</td>\n",
              "      <td>764.0</td>\n",
              "      <td>797.0</td>\n",
              "      <td>1.01</td>\n",
              "    </tr>\n",
              "    <tr>\n",
              "      <th>beta[2, 2]</th>\n",
              "      <td>-0.001</td>\n",
              "      <td>0.039</td>\n",
              "      <td>-0.071</td>\n",
              "      <td>0.075</td>\n",
              "      <td>0.006</td>\n",
              "      <td>0.003</td>\n",
              "      <td>44.0</td>\n",
              "      <td>59.0</td>\n",
              "      <td>1.04</td>\n",
              "    </tr>\n",
              "    <tr>\n",
              "      <th>beta[3, 0]</th>\n",
              "      <td>1.805</td>\n",
              "      <td>0.055</td>\n",
              "      <td>1.702</td>\n",
              "      <td>1.927</td>\n",
              "      <td>0.003</td>\n",
              "      <td>0.002</td>\n",
              "      <td>349.0</td>\n",
              "      <td>1124.0</td>\n",
              "      <td>1.01</td>\n",
              "    </tr>\n",
              "    <tr>\n",
              "      <th>beta[3, 1]</th>\n",
              "      <td>0.033</td>\n",
              "      <td>0.047</td>\n",
              "      <td>-0.041</td>\n",
              "      <td>0.121</td>\n",
              "      <td>0.009</td>\n",
              "      <td>0.004</td>\n",
              "      <td>39.0</td>\n",
              "      <td>96.0</td>\n",
              "      <td>1.04</td>\n",
              "    </tr>\n",
              "    <tr>\n",
              "      <th>beta[3, 2]</th>\n",
              "      <td>1.288</td>\n",
              "      <td>0.042</td>\n",
              "      <td>1.206</td>\n",
              "      <td>1.372</td>\n",
              "      <td>0.002</td>\n",
              "      <td>0.001</td>\n",
              "      <td>662.0</td>\n",
              "      <td>781.0</td>\n",
              "      <td>1.02</td>\n",
              "    </tr>\n",
              "    <tr>\n",
              "      <th>beta[4, 0]</th>\n",
              "      <td>0.021</td>\n",
              "      <td>0.042</td>\n",
              "      <td>-0.052</td>\n",
              "      <td>0.114</td>\n",
              "      <td>0.002</td>\n",
              "      <td>0.002</td>\n",
              "      <td>505.0</td>\n",
              "      <td>762.0</td>\n",
              "      <td>1.01</td>\n",
              "    </tr>\n",
              "    <tr>\n",
              "      <th>beta[4, 1]</th>\n",
              "      <td>0.045</td>\n",
              "      <td>0.046</td>\n",
              "      <td>-0.028</td>\n",
              "      <td>0.148</td>\n",
              "      <td>0.002</td>\n",
              "      <td>0.001</td>\n",
              "      <td>744.0</td>\n",
              "      <td>1097.0</td>\n",
              "      <td>1.01</td>\n",
              "    </tr>\n",
              "    <tr>\n",
              "      <th>beta[4, 2]</th>\n",
              "      <td>-0.056</td>\n",
              "      <td>0.044</td>\n",
              "      <td>-0.139</td>\n",
              "      <td>0.018</td>\n",
              "      <td>0.003</td>\n",
              "      <td>0.001</td>\n",
              "      <td>259.0</td>\n",
              "      <td>1102.0</td>\n",
              "      <td>1.01</td>\n",
              "    </tr>\n",
              "    <tr>\n",
              "      <th>beta[5, 0]</th>\n",
              "      <td>-0.037</td>\n",
              "      <td>0.049</td>\n",
              "      <td>-0.130</td>\n",
              "      <td>0.049</td>\n",
              "      <td>0.004</td>\n",
              "      <td>0.001</td>\n",
              "      <td>170.0</td>\n",
              "      <td>187.0</td>\n",
              "      <td>1.02</td>\n",
              "    </tr>\n",
              "    <tr>\n",
              "      <th>beta[5, 1]</th>\n",
              "      <td>0.110</td>\n",
              "      <td>0.062</td>\n",
              "      <td>-0.009</td>\n",
              "      <td>0.216</td>\n",
              "      <td>0.008</td>\n",
              "      <td>0.002</td>\n",
              "      <td>56.0</td>\n",
              "      <td>622.0</td>\n",
              "      <td>1.03</td>\n",
              "    </tr>\n",
              "    <tr>\n",
              "      <th>beta[5, 2]</th>\n",
              "      <td>-0.026</td>\n",
              "      <td>0.039</td>\n",
              "      <td>-0.108</td>\n",
              "      <td>0.046</td>\n",
              "      <td>0.001</td>\n",
              "      <td>0.001</td>\n",
              "      <td>1243.0</td>\n",
              "      <td>1257.0</td>\n",
              "      <td>1.01</td>\n",
              "    </tr>\n",
              "    <tr>\n",
              "      <th>beta[6, 0]</th>\n",
              "      <td>-1.370</td>\n",
              "      <td>0.064</td>\n",
              "      <td>-1.495</td>\n",
              "      <td>-1.252</td>\n",
              "      <td>0.004</td>\n",
              "      <td>0.002</td>\n",
              "      <td>246.0</td>\n",
              "      <td>725.0</td>\n",
              "      <td>1.01</td>\n",
              "    </tr>\n",
              "    <tr>\n",
              "      <th>beta[6, 1]</th>\n",
              "      <td>-1.631</td>\n",
              "      <td>0.060</td>\n",
              "      <td>-1.740</td>\n",
              "      <td>-1.526</td>\n",
              "      <td>0.010</td>\n",
              "      <td>0.006</td>\n",
              "      <td>49.0</td>\n",
              "      <td>52.0</td>\n",
              "      <td>1.04</td>\n",
              "    </tr>\n",
              "    <tr>\n",
              "      <th>beta[6, 2]</th>\n",
              "      <td>-0.490</td>\n",
              "      <td>0.050</td>\n",
              "      <td>-0.603</td>\n",
              "      <td>-0.399</td>\n",
              "      <td>0.003</td>\n",
              "      <td>0.003</td>\n",
              "      <td>330.0</td>\n",
              "      <td>111.0</td>\n",
              "      <td>1.03</td>\n",
              "    </tr>\n",
              "    <tr>\n",
              "      <th>beta[7, 0]</th>\n",
              "      <td>-0.049</td>\n",
              "      <td>0.053</td>\n",
              "      <td>-0.162</td>\n",
              "      <td>0.034</td>\n",
              "      <td>0.002</td>\n",
              "      <td>0.001</td>\n",
              "      <td>634.0</td>\n",
              "      <td>1259.0</td>\n",
              "      <td>1.00</td>\n",
              "    </tr>\n",
              "    <tr>\n",
              "      <th>beta[7, 1]</th>\n",
              "      <td>-0.020</td>\n",
              "      <td>0.039</td>\n",
              "      <td>-0.104</td>\n",
              "      <td>0.050</td>\n",
              "      <td>0.001</td>\n",
              "      <td>0.001</td>\n",
              "      <td>939.0</td>\n",
              "      <td>1231.0</td>\n",
              "      <td>1.01</td>\n",
              "    </tr>\n",
              "    <tr>\n",
              "      <th>beta[7, 2]</th>\n",
              "      <td>0.013</td>\n",
              "      <td>0.034</td>\n",
              "      <td>-0.053</td>\n",
              "      <td>0.083</td>\n",
              "      <td>0.002</td>\n",
              "      <td>0.001</td>\n",
              "      <td>260.0</td>\n",
              "      <td>1018.0</td>\n",
              "      <td>1.01</td>\n",
              "    </tr>\n",
              "    <tr>\n",
              "      <th>beta[8, 0]</th>\n",
              "      <td>0.013</td>\n",
              "      <td>0.044</td>\n",
              "      <td>-0.068</td>\n",
              "      <td>0.110</td>\n",
              "      <td>0.002</td>\n",
              "      <td>0.002</td>\n",
              "      <td>322.0</td>\n",
              "      <td>846.0</td>\n",
              "      <td>1.01</td>\n",
              "    </tr>\n",
              "    <tr>\n",
              "      <th>beta[8, 1]</th>\n",
              "      <td>-0.014</td>\n",
              "      <td>0.048</td>\n",
              "      <td>-0.116</td>\n",
              "      <td>0.061</td>\n",
              "      <td>0.011</td>\n",
              "      <td>0.008</td>\n",
              "      <td>26.0</td>\n",
              "      <td>18.0</td>\n",
              "      <td>1.06</td>\n",
              "    </tr>\n",
              "    <tr>\n",
              "      <th>beta[8, 2]</th>\n",
              "      <td>-0.037</td>\n",
              "      <td>0.042</td>\n",
              "      <td>-0.132</td>\n",
              "      <td>0.027</td>\n",
              "      <td>0.002</td>\n",
              "      <td>0.002</td>\n",
              "      <td>451.0</td>\n",
              "      <td>1144.0</td>\n",
              "      <td>1.00</td>\n",
              "    </tr>\n",
              "    <tr>\n",
              "      <th>beta[9, 0]</th>\n",
              "      <td>0.064</td>\n",
              "      <td>0.056</td>\n",
              "      <td>-0.028</td>\n",
              "      <td>0.167</td>\n",
              "      <td>0.005</td>\n",
              "      <td>0.001</td>\n",
              "      <td>199.0</td>\n",
              "      <td>1065.0</td>\n",
              "      <td>1.02</td>\n",
              "    </tr>\n",
              "    <tr>\n",
              "      <th>beta[9, 1]</th>\n",
              "      <td>0.101</td>\n",
              "      <td>0.063</td>\n",
              "      <td>-0.017</td>\n",
              "      <td>0.210</td>\n",
              "      <td>0.005</td>\n",
              "      <td>0.006</td>\n",
              "      <td>307.0</td>\n",
              "      <td>121.0</td>\n",
              "      <td>1.04</td>\n",
              "    </tr>\n",
              "    <tr>\n",
              "      <th>beta[9, 2]</th>\n",
              "      <td>0.002</td>\n",
              "      <td>0.035</td>\n",
              "      <td>-0.068</td>\n",
              "      <td>0.082</td>\n",
              "      <td>0.001</td>\n",
              "      <td>0.001</td>\n",
              "      <td>915.0</td>\n",
              "      <td>1075.0</td>\n",
              "      <td>1.05</td>\n",
              "    </tr>\n",
              "  </tbody>\n",
              "</table>\n",
              "</div>\n",
              "    <div class=\"colab-df-buttons\">\n",
              "\n",
              "  <div class=\"colab-df-container\">\n",
              "    <button class=\"colab-df-convert\" onclick=\"convertToInteractive('df-e2929830-ec20-43dd-aa51-2432a04026d6')\"\n",
              "            title=\"Convert this dataframe to an interactive table.\"\n",
              "            style=\"display:none;\">\n",
              "\n",
              "  <svg xmlns=\"http://www.w3.org/2000/svg\" height=\"24px\" viewBox=\"0 -960 960 960\">\n",
              "    <path d=\"M120-120v-720h720v720H120Zm60-500h600v-160H180v160Zm220 220h160v-160H400v160Zm0 220h160v-160H400v160ZM180-400h160v-160H180v160Zm440 0h160v-160H620v160ZM180-180h160v-160H180v160Zm440 0h160v-160H620v160Z\"/>\n",
              "  </svg>\n",
              "    </button>\n",
              "\n",
              "  <style>\n",
              "    .colab-df-container {\n",
              "      display:flex;\n",
              "      gap: 12px;\n",
              "    }\n",
              "\n",
              "    .colab-df-convert {\n",
              "      background-color: #E8F0FE;\n",
              "      border: none;\n",
              "      border-radius: 50%;\n",
              "      cursor: pointer;\n",
              "      display: none;\n",
              "      fill: #1967D2;\n",
              "      height: 32px;\n",
              "      padding: 0 0 0 0;\n",
              "      width: 32px;\n",
              "    }\n",
              "\n",
              "    .colab-df-convert:hover {\n",
              "      background-color: #E2EBFA;\n",
              "      box-shadow: 0px 1px 2px rgba(60, 64, 67, 0.3), 0px 1px 3px 1px rgba(60, 64, 67, 0.15);\n",
              "      fill: #174EA6;\n",
              "    }\n",
              "\n",
              "    .colab-df-buttons div {\n",
              "      margin-bottom: 4px;\n",
              "    }\n",
              "\n",
              "    [theme=dark] .colab-df-convert {\n",
              "      background-color: #3B4455;\n",
              "      fill: #D2E3FC;\n",
              "    }\n",
              "\n",
              "    [theme=dark] .colab-df-convert:hover {\n",
              "      background-color: #434B5C;\n",
              "      box-shadow: 0px 1px 3px 1px rgba(0, 0, 0, 0.15);\n",
              "      filter: drop-shadow(0px 1px 2px rgba(0, 0, 0, 0.3));\n",
              "      fill: #FFFFFF;\n",
              "    }\n",
              "  </style>\n",
              "\n",
              "    <script>\n",
              "      const buttonEl =\n",
              "        document.querySelector('#df-e2929830-ec20-43dd-aa51-2432a04026d6 button.colab-df-convert');\n",
              "      buttonEl.style.display =\n",
              "        google.colab.kernel.accessAllowed ? 'block' : 'none';\n",
              "\n",
              "      async function convertToInteractive(key) {\n",
              "        const element = document.querySelector('#df-e2929830-ec20-43dd-aa51-2432a04026d6');\n",
              "        const dataTable =\n",
              "          await google.colab.kernel.invokeFunction('convertToInteractive',\n",
              "                                                    [key], {});\n",
              "        if (!dataTable) return;\n",
              "\n",
              "        const docLinkHtml = 'Like what you see? Visit the ' +\n",
              "          '<a target=\"_blank\" href=https://colab.research.google.com/notebooks/data_table.ipynb>data table notebook</a>'\n",
              "          + ' to learn more about interactive tables.';\n",
              "        element.innerHTML = '';\n",
              "        dataTable['output_type'] = 'display_data';\n",
              "        await google.colab.output.renderOutput(dataTable, element);\n",
              "        const docLink = document.createElement('div');\n",
              "        docLink.innerHTML = docLinkHtml;\n",
              "        element.appendChild(docLink);\n",
              "      }\n",
              "    </script>\n",
              "  </div>\n",
              "\n",
              "\n",
              "<div id=\"df-b5b28a4e-4048-4ab7-9804-0604e94b5468\">\n",
              "  <button class=\"colab-df-quickchart\" onclick=\"quickchart('df-b5b28a4e-4048-4ab7-9804-0604e94b5468')\"\n",
              "            title=\"Suggest charts\"\n",
              "            style=\"display:none;\">\n",
              "\n",
              "<svg xmlns=\"http://www.w3.org/2000/svg\" height=\"24px\"viewBox=\"0 0 24 24\"\n",
              "     width=\"24px\">\n",
              "    <g>\n",
              "        <path d=\"M19 3H5c-1.1 0-2 .9-2 2v14c0 1.1.9 2 2 2h14c1.1 0 2-.9 2-2V5c0-1.1-.9-2-2-2zM9 17H7v-7h2v7zm4 0h-2V7h2v10zm4 0h-2v-4h2v4z\"/>\n",
              "    </g>\n",
              "</svg>\n",
              "  </button>\n",
              "\n",
              "<style>\n",
              "  .colab-df-quickchart {\n",
              "      --bg-color: #E8F0FE;\n",
              "      --fill-color: #1967D2;\n",
              "      --hover-bg-color: #E2EBFA;\n",
              "      --hover-fill-color: #174EA6;\n",
              "      --disabled-fill-color: #AAA;\n",
              "      --disabled-bg-color: #DDD;\n",
              "  }\n",
              "\n",
              "  [theme=dark] .colab-df-quickchart {\n",
              "      --bg-color: #3B4455;\n",
              "      --fill-color: #D2E3FC;\n",
              "      --hover-bg-color: #434B5C;\n",
              "      --hover-fill-color: #FFFFFF;\n",
              "      --disabled-bg-color: #3B4455;\n",
              "      --disabled-fill-color: #666;\n",
              "  }\n",
              "\n",
              "  .colab-df-quickchart {\n",
              "    background-color: var(--bg-color);\n",
              "    border: none;\n",
              "    border-radius: 50%;\n",
              "    cursor: pointer;\n",
              "    display: none;\n",
              "    fill: var(--fill-color);\n",
              "    height: 32px;\n",
              "    padding: 0;\n",
              "    width: 32px;\n",
              "  }\n",
              "\n",
              "  .colab-df-quickchart:hover {\n",
              "    background-color: var(--hover-bg-color);\n",
              "    box-shadow: 0 1px 2px rgba(60, 64, 67, 0.3), 0 1px 3px 1px rgba(60, 64, 67, 0.15);\n",
              "    fill: var(--button-hover-fill-color);\n",
              "  }\n",
              "\n",
              "  .colab-df-quickchart-complete:disabled,\n",
              "  .colab-df-quickchart-complete:disabled:hover {\n",
              "    background-color: var(--disabled-bg-color);\n",
              "    fill: var(--disabled-fill-color);\n",
              "    box-shadow: none;\n",
              "  }\n",
              "\n",
              "  .colab-df-spinner {\n",
              "    border: 2px solid var(--fill-color);\n",
              "    border-color: transparent;\n",
              "    border-bottom-color: var(--fill-color);\n",
              "    animation:\n",
              "      spin 1s steps(1) infinite;\n",
              "  }\n",
              "\n",
              "  @keyframes spin {\n",
              "    0% {\n",
              "      border-color: transparent;\n",
              "      border-bottom-color: var(--fill-color);\n",
              "      border-left-color: var(--fill-color);\n",
              "    }\n",
              "    20% {\n",
              "      border-color: transparent;\n",
              "      border-left-color: var(--fill-color);\n",
              "      border-top-color: var(--fill-color);\n",
              "    }\n",
              "    30% {\n",
              "      border-color: transparent;\n",
              "      border-left-color: var(--fill-color);\n",
              "      border-top-color: var(--fill-color);\n",
              "      border-right-color: var(--fill-color);\n",
              "    }\n",
              "    40% {\n",
              "      border-color: transparent;\n",
              "      border-right-color: var(--fill-color);\n",
              "      border-top-color: var(--fill-color);\n",
              "    }\n",
              "    60% {\n",
              "      border-color: transparent;\n",
              "      border-right-color: var(--fill-color);\n",
              "    }\n",
              "    80% {\n",
              "      border-color: transparent;\n",
              "      border-right-color: var(--fill-color);\n",
              "      border-bottom-color: var(--fill-color);\n",
              "    }\n",
              "    90% {\n",
              "      border-color: transparent;\n",
              "      border-bottom-color: var(--fill-color);\n",
              "    }\n",
              "  }\n",
              "</style>\n",
              "\n",
              "  <script>\n",
              "    async function quickchart(key) {\n",
              "      const quickchartButtonEl =\n",
              "        document.querySelector('#' + key + ' button');\n",
              "      quickchartButtonEl.disabled = true;  // To prevent multiple clicks.\n",
              "      quickchartButtonEl.classList.add('colab-df-spinner');\n",
              "      try {\n",
              "        const charts = await google.colab.kernel.invokeFunction(\n",
              "            'suggestCharts', [key], {});\n",
              "      } catch (error) {\n",
              "        console.error('Error during call to suggestCharts:', error);\n",
              "      }\n",
              "      quickchartButtonEl.classList.remove('colab-df-spinner');\n",
              "      quickchartButtonEl.classList.add('colab-df-quickchart-complete');\n",
              "    }\n",
              "    (() => {\n",
              "      let quickchartButtonEl =\n",
              "        document.querySelector('#df-b5b28a4e-4048-4ab7-9804-0604e94b5468 button');\n",
              "      quickchartButtonEl.style.display =\n",
              "        google.colab.kernel.accessAllowed ? 'block' : 'none';\n",
              "    })();\n",
              "  </script>\n",
              "</div>\n",
              "\n",
              "    </div>\n",
              "  </div>\n"
            ],
            "application/vnd.google.colaboratory.intrinsic+json": {
              "type": "dataframe",
              "summary": "{\n  \"name\": \"az\",\n  \"rows\": 30,\n  \"fields\": [\n    {\n      \"column\": \"mean\",\n      \"properties\": {\n        \"dtype\": \"number\",\n        \"std\": 0.6059794664781172,\n        \"min\": -1.631,\n        \"max\": 1.805,\n        \"num_unique_values\": 28,\n        \"samples\": [\n          1.805,\n          0.064,\n          -0.001\n        ],\n        \"semantic_type\": \"\",\n        \"description\": \"\"\n      }\n    },\n    {\n      \"column\": \"sd\",\n      \"properties\": {\n        \"dtype\": \"number\",\n        \"std\": 0.00902002879930158,\n        \"min\": 0.033,\n        \"max\": 0.064,\n        \"num_unique_values\": 18,\n        \"samples\": [\n          0.042,\n          0.035,\n          0.047\n        ],\n        \"semantic_type\": \"\",\n        \"description\": \"\"\n      }\n    },\n    {\n      \"column\": \"hdi_2.5%\",\n      \"properties\": {\n        \"dtype\": \"number\",\n        \"std\": 0.6110714586578291,\n        \"min\": -1.74,\n        \"max\": 1.702,\n        \"num_unique_values\": 28,\n        \"samples\": [\n          1.702,\n          -0.116,\n          -0.071\n        ],\n        \"semantic_type\": \"\",\n        \"description\": \"\"\n      }\n    },\n    {\n      \"column\": \"hdi_97.5%\",\n      \"properties\": {\n        \"dtype\": \"number\",\n        \"std\": 0.6053054363413299,\n        \"min\": -1.526,\n        \"max\": 1.927,\n        \"num_unique_values\": 29,\n        \"samples\": [\n          0.21,\n          0.216,\n          0.114\n        ],\n        \"semantic_type\": \"\",\n        \"description\": \"\"\n      }\n    },\n    {\n      \"column\": \"mcse_mean\",\n      \"properties\": {\n        \"dtype\": \"number\",\n        \"std\": 0.002987329565186018,\n        \"min\": 0.001,\n        \"max\": 0.011,\n        \"num_unique_values\": 10,\n        \"samples\": [\n          0.008,\n          0.001,\n          0.006\n        ],\n        \"semantic_type\": \"\",\n        \"description\": \"\"\n      }\n    },\n    {\n      \"column\": \"mcse_sd\",\n      \"properties\": {\n        \"dtype\": \"number\",\n        \"std\": 0.0017603552410558059,\n        \"min\": 0.001,\n        \"max\": 0.008,\n        \"num_unique_values\": 6,\n        \"samples\": [\n          0.002,\n          0.001,\n          0.008\n        ],\n        \"semantic_type\": \"\",\n        \"description\": \"\"\n      }\n    },\n    {\n      \"column\": \"ess_bulk\",\n      \"properties\": {\n        \"dtype\": \"number\",\n        \"std\": 337.32743566240606,\n        \"min\": 26.0,\n        \"max\": 1243.0,\n        \"num_unique_values\": 30,\n        \"samples\": [\n          199.0,\n          170.0,\n          260.0\n        ],\n        \"semantic_type\": \"\",\n        \"description\": \"\"\n      }\n    },\n    {\n      \"column\": \"ess_tail\",\n      \"properties\": {\n        \"dtype\": \"number\",\n        \"std\": 426.5631173735585,\n        \"min\": 18.0,\n        \"max\": 1259.0,\n        \"num_unique_values\": 30,\n        \"samples\": [\n          1065.0,\n          187.0,\n          1018.0\n        ],\n        \"semantic_type\": \"\",\n        \"description\": \"\"\n      }\n    },\n    {\n      \"column\": \"r_hat\",\n      \"properties\": {\n        \"dtype\": \"number\",\n        \"std\": 0.015643293888377898,\n        \"min\": 1.0,\n        \"max\": 1.06,\n        \"num_unique_values\": 7,\n        \"samples\": [\n          1.01,\n          1.02,\n          1.06\n        ],\n        \"semantic_type\": \"\",\n        \"description\": \"\"\n      }\n    }\n  ]\n}"
            }
          },
          "metadata": {},
          "execution_count": 19
        }
      ]
    },
    {
      "cell_type": "markdown",
      "source": [
        "### Inference Comparison\n",
        "\n",
        "---\n",
        "\n",
        "In this question, the horseshoe prior was used for multivariate regression -- the horseshoe prior applies continuous variable shrinkage by allowing relevant coefficients to remain large while intensively shrinking irrelevant coefficients towards zero. On the contrary, the spike-and-slab model uses discrete inclusion indicators to perform variable selection.\n",
        "\n",
        "The horseshoe prior is able to achieve sparsity without using binary latent variables, making it more computationally efficient than the spike-and-slab model. While the spike-and-slab model provides more interpretable results, the horseshoe prior is able to offer similar selection performance with a much lower computational cost.\n",
        "\n",
        "---"
      ],
      "metadata": {
        "id": "-RQSFLa5SVz9"
      },
      "id": "-RQSFLa5SVz9"
    },
    {
      "cell_type": "markdown",
      "id": "277f7b81",
      "metadata": {
        "id": "277f7b81"
      },
      "source": [
        "### The Horseshoe prior\n",
        "\n",
        "The [PyMC overview](https://www.pymc.io/projects/docs/en/stable/learn/core_notebooks/pymc_overview.html) and [many](https://www.google.com/search?q=pymc+horseshoe&oq=pymc+horseshoe) other [resources](https://mellorjc.github.io/HorseshoePriorswithpymc3.html) provide ***Horseshoe prior*** [[1]](https://www.jstor.org/stable/25734098) [[2]](https://faculty.mccombs.utexas.edu/carlos.carvalho/Carvalhoetal2009.pdf) implementations\n",
        "\n",
        "| Half-Cauchy $\\text{HC}_+(\\xi)$ | Horseshoe Prior $\\text{HSP}$ | Shrinkage $\\kappa$ | Change of Variables|\n",
        "|:-:|:-:|:-:|:-:|\n",
        "|$$f(x \\mid \\xi) = \\frac{2\\cdot 1_{[x>=0]}(x)}{\\pi \\xi \\left[1 + \\left(\\frac{x}{\\xi}\\right)^2\\right]}$$|\\begin{align*}w_i|\\tau &\\sim N(0, \\sigma^{2}=\\lambda_i^2\\tau^2)\\\\\\lambda_i &\\sim HC_+(1)\\\\\\tau &\\sim HC_+(\\tau_0)\\end{align*}|\\begin{align*}\\kappa_{\\lambda_i} ={}& 1/(1+\\lambda_i^2)\\\\\\lambda_i ={}& \\sqrt{1/\\kappa_{\\lambda_i}-1}\\\\J_{\\kappa_{\\lambda_i}} ={}& \\frac{1}{2}(\\kappa_{\\lambda_i}^{-1}-1)^{-\\frac{1}{2}}\\times \\kappa_{\\lambda_i}^{-2} \\end{align*}|\\begin{align*}f(\\kappa_{\\lambda_i}) = {} & f\\left(\\lambda_i = \\sqrt{1/\\kappa_{\\lambda_i}-1}\\right)\\\\ {} & \\times \\underbrace{\\frac{1}{2}(\\kappa_{\\lambda_i}^{-1}-1)^{-\\frac{1}{2}}\\times \\kappa_{\\lambda_i}^{-2}}_{J_{\\kappa_{\\lambda_i}}} \\end{align*}|\n",
        "\n"
      ]
    },
    {
      "cell_type": "code",
      "execution_count": null,
      "id": "e8908e7b",
      "metadata": {
        "id": "e8908e7b",
        "outputId": "8e4636b8-c711-4650-e75b-05ec3f349b63"
      },
      "outputs": [
        {
          "data": {
            "image/png": "[encoded data removed]",
            "text/plain": [
              "<Figure size 1000x300 with 2 Axes>"
            ]
          },
          "metadata": {},
          "output_type": "display_data"
        }
      ],
      "source": [
        "fig,ax = plt.subplots(1,2,figsize=(10,3))\n",
        "support = np.linspace(0,5,1000)\n",
        "# shrnk = trans(spprt) = 1/(1+sprt**2)\n",
        "shrinkage = 1/(1+support**2)\n",
        "ax[0].plot(support, shrinkage)\n",
        "ax[0].set_ylabel(\"Shrinkage\")\n",
        "ax[0].set_xlabel(\"$\\\\lambda_i$\")\n",
        "# change of variables:\n",
        "# spprt = (1/shrnk-1)**0.5; E.g., 1/(1+.5**2), (1/.8-1)**0.5;\n",
        "# jacobian: .5(1/shrnk-1)**(-.5)*shrnk**(-2)\n",
        "shrinkage = np.linspace(0.01,.99,99)\n",
        "ax[1].plot(shrinkage,\n",
        "           stats.halfcauchy(scale=1).pdf((1/shrinkage-1)**0.5) *\n",
        "           .5*(1/shrinkage-1)**(-.5)*shrinkage**(-2))\n",
        "ax[1].set_title('The Horseshoe!')\n",
        "ax[1].set_xlabel(\"Shrinkage\");"
      ]
    },
    {
      "cell_type": "markdown",
      "source": [
        "References: used OpenAI to generate sections of code."
      ],
      "metadata": {
        "id": "lW5XWk_gUW4K"
      },
      "id": "lW5XWk_gUW4K"
    }
  ],
  "metadata": {
    "kernelspec": {
      "display_name": "Python 3 (ipykernel)",
      "language": "python",
      "name": "python3"
    },
    "language_info": {
      "codemirror_mode": {
        "name": "ipython",
        "version": 3
      },
      "file_extension": ".py",
      "mimetype": "text/x-python",
      "name": "python",
      "nbconvert_exporter": "python",
      "pygments_lexer": "ipython3",
      "version": "3.11.4"
    },
    "colab": {
      "provenance": []
    },
    "widgets": {
      "application/vnd.jupyter.widget-state+json": {
        "b531af740af440a0b46c3dac87e97d14": {
          "model_module": "@jupyter-widgets/output",
          "model_name": "OutputModel",
          "model_module_version": "1.0.0",
          "state": {
            "_dom_classes": [],
            "_model_module": "@jupyter-widgets/output",
            "_model_module_version": "1.0.0",
            "_model_name": "OutputModel",
            "_view_count": null,
            "_view_module": "@jupyter-widgets/output",
            "_view_module_version": "1.0.0",
            "_view_name": "OutputView",
            "layout": "IPY_MODEL_96a76f4db714417e8a2046f63f52eb73",
            "msg_id": "",
            "outputs": [
              {
                "output_type": "display_data",
                "data": {
                  "text/plain": "                                                                                                                   \n \u001b[1m \u001b[0m\u001b[1mProgress                 \u001b[0m\u001b[1m \u001b[0m \u001b[1m \u001b[0m\u001b[1mDraws\u001b[0m\u001b[1m \u001b[0m \u001b[1m \u001b[0m\u001b[1mDivergences\u001b[0m\u001b[1m \u001b[0m \u001b[1m \u001b[0m\u001b[1mStep size\u001b[0m\u001b[1m \u001b[0m \u001b[1m \u001b[0m\u001b[1mGrad evals\u001b[0m\u001b[1m \u001b[0m \u001b[1m \u001b[0m\u001b[1mSampling Speed\u001b[0m\u001b[1m \u001b[0m \u001b[1m \u001b[0m\u001b[1mElapsed\u001b[0m\u001b[1m \u001b[0m \u001b[1m \u001b[0m\u001b[1mRemaining\u001b[0m\u001b[1m \u001b[0m \n ───────────────────────────────────────────────────────────────────────────────────────────────────────────────── \n  \u001b[38;2;31;119;180m━━━━━━━━━━━━━━━━━━━━━━━━━\u001b[0m   2000    0             1.33        3            928.68 draws/s   0:00:02   0:00:00    \n  \u001b[38;2;31;119;180m━━━━━━━━━━━━━━━━━━━━━━━━━\u001b[0m   2000    0             1.15        3            576.29 draws/s   0:00:03   0:00:00    \n                                                                                                                   \n",
                  "text/html": "<pre style=\"white-space:pre;overflow-x:auto;line-height:normal;font-family:Menlo,'DejaVu Sans Mono',consolas,'Courier New',monospace\">                                                                                                                   \n <span style=\"font-weight: bold\"> Progress                  </span> <span style=\"font-weight: bold\"> Draws </span> <span style=\"font-weight: bold\"> Divergences </span> <span style=\"font-weight: bold\"> Step size </span> <span style=\"font-weight: bold\"> Grad evals </span> <span style=\"font-weight: bold\"> Sampling Speed </span> <span style=\"font-weight: bold\"> Elapsed </span> <span style=\"font-weight: bold\"> Remaining </span> \n ───────────────────────────────────────────────────────────────────────────────────────────────────────────────── \n  <span style=\"color: #1f77b4; text-decoration-color: #1f77b4\">━━━━━━━━━━━━━━━━━━━━━━━━━</span>   2000    0             1.33        3            928.68 draws/s   0:00:02   0:00:00    \n  <span style=\"color: #1f77b4; text-decoration-color: #1f77b4\">━━━━━━━━━━━━━━━━━━━━━━━━━</span>   2000    0             1.15        3            576.29 draws/s   0:00:03   0:00:00    \n                                                                                                                   \n</pre>\n"
                },
                "metadata": {}
              }
            ]
          }
        },
        "96a76f4db714417e8a2046f63f52eb73": {
          "model_module": "@jupyter-widgets/base",
          "model_name": "LayoutModel",
          "model_module_version": "1.2.0",
          "state": {
            "_model_module": "@jupyter-widgets/base",
            "_model_module_version": "1.2.0",
            "_model_name": "LayoutModel",
            "_view_count": null,
            "_view_module": "@jupyter-widgets/base",
            "_view_module_version": "1.2.0",
            "_view_name": "LayoutView",
            "align_content": null,
            "align_items": null,
            "align_self": null,
            "border": null,
            "bottom": null,
            "display": null,
            "flex": null,
            "flex_flow": null,
            "grid_area": null,
            "grid_auto_columns": null,
            "grid_auto_flow": null,
            "grid_auto_rows": null,
            "grid_column": null,
            "grid_gap": null,
            "grid_row": null,
            "grid_template_areas": null,
            "grid_template_columns": null,
            "grid_template_rows": null,
            "height": null,
            "justify_content": null,
            "justify_items": null,
            "left": null,
            "margin": null,
            "max_height": null,
            "max_width": null,
            "min_height": null,
            "min_width": null,
            "object_fit": null,
            "object_position": null,
            "order": null,
            "overflow": null,
            "overflow_x": null,
            "overflow_y": null,
            "padding": null,
            "right": null,
            "top": null,
            "visibility": null,
            "width": null
          }
        },
        "f723c3e60b7f47f3821c3a386031e419": {
          "model_module": "@jupyter-widgets/output",
          "model_name": "OutputModel",
          "model_module_version": "1.0.0",
          "state": {
            "_dom_classes": [],
            "_model_module": "@jupyter-widgets/output",
            "_model_module_version": "1.0.0",
            "_model_name": "OutputModel",
            "_view_count": null,
            "_view_module": "@jupyter-widgets/output",
            "_view_module_version": "1.0.0",
            "_view_name": "OutputView",
            "layout": "IPY_MODEL_99c7fd9f0e1f474ebbb7b14c8034442b",
            "msg_id": "",
            "outputs": [
              {
                "output_type": "display_data",
                "data": {
                  "text/plain": "                                                                                                                   \n \u001b[1m \u001b[0m\u001b[1mProgress                 \u001b[0m\u001b[1m \u001b[0m \u001b[1m \u001b[0m\u001b[1mDraws\u001b[0m\u001b[1m \u001b[0m \u001b[1m \u001b[0m\u001b[1mDivergences\u001b[0m\u001b[1m \u001b[0m \u001b[1m \u001b[0m\u001b[1mStep size\u001b[0m\u001b[1m \u001b[0m \u001b[1m \u001b[0m\u001b[1mGrad evals\u001b[0m\u001b[1m \u001b[0m \u001b[1m \u001b[0m\u001b[1mSampling Speed\u001b[0m\u001b[1m \u001b[0m \u001b[1m \u001b[0m\u001b[1mElapsed\u001b[0m\u001b[1m \u001b[0m \u001b[1m \u001b[0m\u001b[1mRemaining\u001b[0m\u001b[1m \u001b[0m \n ───────────────────────────────────────────────────────────────────────────────────────────────────────────────── \n  \u001b[38;2;31;119;180m━━━━━━━━━━━━━━━━━━━━━━━━━\u001b[0m   2000    0             0.40        15           96.05 draws/s    0:00:20   0:00:00    \n  \u001b[38;2;31;119;180m━━━━━━━━━━━━━━━━━━━━━━━━━\u001b[0m   2000    0             0.34        15           44.72 draws/s    0:00:44   0:00:00    \n                                                                                                                   \n",
                  "text/html": "<pre style=\"white-space:pre;overflow-x:auto;line-height:normal;font-family:Menlo,'DejaVu Sans Mono',consolas,'Courier New',monospace\">                                                                                                                   \n <span style=\"font-weight: bold\"> Progress                  </span> <span style=\"font-weight: bold\"> Draws </span> <span style=\"font-weight: bold\"> Divergences </span> <span style=\"font-weight: bold\"> Step size </span> <span style=\"font-weight: bold\"> Grad evals </span> <span style=\"font-weight: bold\"> Sampling Speed </span> <span style=\"font-weight: bold\"> Elapsed </span> <span style=\"font-weight: bold\"> Remaining </span> \n ───────────────────────────────────────────────────────────────────────────────────────────────────────────────── \n  <span style=\"color: #1f77b4; text-decoration-color: #1f77b4\">━━━━━━━━━━━━━━━━━━━━━━━━━</span>   2000    0             0.40        15           96.05 draws/s    0:00:20   0:00:00    \n  <span style=\"color: #1f77b4; text-decoration-color: #1f77b4\">━━━━━━━━━━━━━━━━━━━━━━━━━</span>   2000    0             0.34        15           44.72 draws/s    0:00:44   0:00:00    \n                                                                                                                   \n</pre>\n"
                },
                "metadata": {}
              }
            ]
          }
        },
        "99c7fd9f0e1f474ebbb7b14c8034442b": {
          "model_module": "@jupyter-widgets/base",
          "model_name": "LayoutModel",
          "model_module_version": "1.2.0",
          "state": {
            "_model_module": "@jupyter-widgets/base",
            "_model_module_version": "1.2.0",
            "_model_name": "LayoutModel",
            "_view_count": null,
            "_view_module": "@jupyter-widgets/base",
            "_view_module_version": "1.2.0",
            "_view_name": "LayoutView",
            "align_content": null,
            "align_items": null,
            "align_self": null,
            "border": null,
            "bottom": null,
            "display": null,
            "flex": null,
            "flex_flow": null,
            "grid_area": null,
            "grid_auto_columns": null,
            "grid_auto_flow": null,
            "grid_auto_rows": null,
            "grid_column": null,
            "grid_gap": null,
            "grid_row": null,
            "grid_template_areas": null,
            "grid_template_columns": null,
            "grid_template_rows": null,
            "height": null,
            "justify_content": null,
            "justify_items": null,
            "left": null,
            "margin": null,
            "max_height": null,
            "max_width": null,
            "min_height": null,
            "min_width": null,
            "object_fit": null,
            "object_position": null,
            "order": null,
            "overflow": null,
            "overflow_x": null,
            "overflow_y": null,
            "padding": null,
            "right": null,
            "top": null,
            "visibility": null,
            "width": null
          }
        },
        "e581d1db487241d8b7e0d594827de8c3": {
          "model_module": "@jupyter-widgets/output",
          "model_name": "OutputModel",
          "model_module_version": "1.0.0",
          "state": {
            "_dom_classes": [],
            "_model_module": "@jupyter-widgets/output",
            "_model_module_version": "1.0.0",
            "_model_name": "OutputModel",
            "_view_count": null,
            "_view_module": "@jupyter-widgets/output",
            "_view_module_version": "1.0.0",
            "_view_name": "OutputView",
            "layout": "IPY_MODEL_693198e30def4a2c9324fd90ece62030",
            "msg_id": "",
            "outputs": [
              {
                "output_type": "display_data",
                "data": {
                  "text/plain": "                                                                                                                   \n \u001b[1m \u001b[0m\u001b[1mProgress                 \u001b[0m\u001b[1m \u001b[0m \u001b[1m \u001b[0m\u001b[1mDraws\u001b[0m\u001b[1m \u001b[0m \u001b[1m \u001b[0m\u001b[1mDivergences\u001b[0m\u001b[1m \u001b[0m \u001b[1m \u001b[0m\u001b[1mStep size\u001b[0m\u001b[1m \u001b[0m \u001b[1m \u001b[0m\u001b[1mGrad evals\u001b[0m\u001b[1m \u001b[0m \u001b[1m \u001b[0m\u001b[1mSampling Speed\u001b[0m\u001b[1m \u001b[0m \u001b[1m \u001b[0m\u001b[1mElapsed\u001b[0m\u001b[1m \u001b[0m \u001b[1m \u001b[0m\u001b[1mRemaining\u001b[0m\u001b[1m \u001b[0m \n ───────────────────────────────────────────────────────────────────────────────────────────────────────────────── \n  \u001b[38;2;31;119;180m━━━━━━━━━━━━━━━━━━━━━━━━━\u001b[0m   2000    0             0.05        63           59.27 draws/s    0:00:33   0:00:00    \n  \u001b[38;2;31;119;180m━━━━━━━━━━━━━━━━━━━━━━━━━\u001b[0m   2000    0             0.06        63           30.14 draws/s    0:01:06   0:00:00    \n                                                                                                                   \n",
                  "text/html": "<pre style=\"white-space:pre;overflow-x:auto;line-height:normal;font-family:Menlo,'DejaVu Sans Mono',consolas,'Courier New',monospace\">                                                                                                                   \n <span style=\"font-weight: bold\"> Progress                  </span> <span style=\"font-weight: bold\"> Draws </span> <span style=\"font-weight: bold\"> Divergences </span> <span style=\"font-weight: bold\"> Step size </span> <span style=\"font-weight: bold\"> Grad evals </span> <span style=\"font-weight: bold\"> Sampling Speed </span> <span style=\"font-weight: bold\"> Elapsed </span> <span style=\"font-weight: bold\"> Remaining </span> \n ───────────────────────────────────────────────────────────────────────────────────────────────────────────────── \n  <span style=\"color: #1f77b4; text-decoration-color: #1f77b4\">━━━━━━━━━━━━━━━━━━━━━━━━━</span>   2000    0             0.05        63           59.27 draws/s    0:00:33   0:00:00    \n  <span style=\"color: #1f77b4; text-decoration-color: #1f77b4\">━━━━━━━━━━━━━━━━━━━━━━━━━</span>   2000    0             0.06        63           30.14 draws/s    0:01:06   0:00:00    \n                                                                                                                   \n</pre>\n"
                },
                "metadata": {}
              }
            ]
          }
        },
        "693198e30def4a2c9324fd90ece62030": {
          "model_module": "@jupyter-widgets/base",
          "model_name": "LayoutModel",
          "model_module_version": "1.2.0",
          "state": {
            "_model_module": "@jupyter-widgets/base",
            "_model_module_version": "1.2.0",
            "_model_name": "LayoutModel",
            "_view_count": null,
            "_view_module": "@jupyter-widgets/base",
            "_view_module_version": "1.2.0",
            "_view_name": "LayoutView",
            "align_content": null,
            "align_items": null,
            "align_self": null,
            "border": null,
            "bottom": null,
            "display": null,
            "flex": null,
            "flex_flow": null,
            "grid_area": null,
            "grid_auto_columns": null,
            "grid_auto_flow": null,
            "grid_auto_rows": null,
            "grid_column": null,
            "grid_gap": null,
            "grid_row": null,
            "grid_template_areas": null,
            "grid_template_columns": null,
            "grid_template_rows": null,
            "height": null,
            "justify_content": null,
            "justify_items": null,
            "left": null,
            "margin": null,
            "max_height": null,
            "max_width": null,
            "min_height": null,
            "min_width": null,
            "object_fit": null,
            "object_position": null,
            "order": null,
            "overflow": null,
            "overflow_x": null,
            "overflow_y": null,
            "padding": null,
            "right": null,
            "top": null,
            "visibility": null,
            "width": null
          }
        },
        "855cabd8b7a042cdb7292bf39e98657a": {
          "model_module": "@jupyter-widgets/output",
          "model_name": "OutputModel",
          "model_module_version": "1.0.0",
          "state": {
            "_dom_classes": [],
            "_model_module": "@jupyter-widgets/output",
            "_model_module_version": "1.0.0",
            "_model_name": "OutputModel",
            "_view_count": null,
            "_view_module": "@jupyter-widgets/output",
            "_view_module_version": "1.0.0",
            "_view_name": "OutputView",
            "layout": "IPY_MODEL_d2e5c85627ea4029b4053f7629b068f0",
            "msg_id": "",
            "outputs": [
              {
                "output_type": "display_data",
                "data": {
                  "text/plain": "                                                                                                                   \n \u001b[1m \u001b[0m\u001b[1mProgress                 \u001b[0m\u001b[1m \u001b[0m \u001b[1m \u001b[0m\u001b[1mDraws\u001b[0m\u001b[1m \u001b[0m \u001b[1m \u001b[0m\u001b[1mDivergences\u001b[0m\u001b[1m \u001b[0m \u001b[1m \u001b[0m\u001b[1mStep size\u001b[0m\u001b[1m \u001b[0m \u001b[1m \u001b[0m\u001b[1mGrad evals\u001b[0m\u001b[1m \u001b[0m \u001b[1m \u001b[0m\u001b[1mSampling Speed\u001b[0m\u001b[1m \u001b[0m \u001b[1m \u001b[0m\u001b[1mElapsed\u001b[0m\u001b[1m \u001b[0m \u001b[1m \u001b[0m\u001b[1mRemaining\u001b[0m\u001b[1m \u001b[0m \n ───────────────────────────────────────────────────────────────────────────────────────────────────────────────── \n  \u001b[38;2;31;119;180m━━━━━━━━━━━━━━━━━━━━━━━━━\u001b[0m   2000    0             0.42        7            602.65 draws/s   0:00:03   0:00:00    \n  \u001b[38;2;31;119;180m━━━━━━━━━━━━━━━━━━━━━━━━━\u001b[0m   2000    0             0.45        7            281.31 draws/s   0:00:07   0:00:00    \n                                                                                                                   \n",
                  "text/html": "<pre style=\"white-space:pre;overflow-x:auto;line-height:normal;font-family:Menlo,'DejaVu Sans Mono',consolas,'Courier New',monospace\">                                                                                                                   \n <span style=\"font-weight: bold\"> Progress                  </span> <span style=\"font-weight: bold\"> Draws </span> <span style=\"font-weight: bold\"> Divergences </span> <span style=\"font-weight: bold\"> Step size </span> <span style=\"font-weight: bold\"> Grad evals </span> <span style=\"font-weight: bold\"> Sampling Speed </span> <span style=\"font-weight: bold\"> Elapsed </span> <span style=\"font-weight: bold\"> Remaining </span> \n ───────────────────────────────────────────────────────────────────────────────────────────────────────────────── \n  <span style=\"color: #1f77b4; text-decoration-color: #1f77b4\">━━━━━━━━━━━━━━━━━━━━━━━━━</span>   2000    0             0.42        7            602.65 draws/s   0:00:03   0:00:00    \n  <span style=\"color: #1f77b4; text-decoration-color: #1f77b4\">━━━━━━━━━━━━━━━━━━━━━━━━━</span>   2000    0             0.45        7            281.31 draws/s   0:00:07   0:00:00    \n                                                                                                                   \n</pre>\n"
                },
                "metadata": {}
              }
            ]
          }
        },
        "d2e5c85627ea4029b4053f7629b068f0": {
          "model_module": "@jupyter-widgets/base",
          "model_name": "LayoutModel",
          "model_module_version": "1.2.0",
          "state": {
            "_model_module": "@jupyter-widgets/base",
            "_model_module_version": "1.2.0",
            "_model_name": "LayoutModel",
            "_view_count": null,
            "_view_module": "@jupyter-widgets/base",
            "_view_module_version": "1.2.0",
            "_view_name": "LayoutView",
            "align_content": null,
            "align_items": null,
            "align_self": null,
            "border": null,
            "bottom": null,
            "display": null,
            "flex": null,
            "flex_flow": null,
            "grid_area": null,
            "grid_auto_columns": null,
            "grid_auto_flow": null,
            "grid_auto_rows": null,
            "grid_column": null,
            "grid_gap": null,
            "grid_row": null,
            "grid_template_areas": null,
            "grid_template_columns": null,
            "grid_template_rows": null,
            "height": null,
            "justify_content": null,
            "justify_items": null,
            "left": null,
            "margin": null,
            "max_height": null,
            "max_width": null,
            "min_height": null,
            "min_width": null,
            "object_fit": null,
            "object_position": null,
            "order": null,
            "overflow": null,
            "overflow_x": null,
            "overflow_y": null,
            "padding": null,
            "right": null,
            "top": null,
            "visibility": null,
            "width": null
          }
        },
        "4ee526c6e5bd460a8b40d28274f4e5fe": {
          "model_module": "@jupyter-widgets/output",
          "model_name": "OutputModel",
          "model_module_version": "1.0.0",
          "state": {
            "_dom_classes": [],
            "_model_module": "@jupyter-widgets/output",
            "_model_module_version": "1.0.0",
            "_model_name": "OutputModel",
            "_view_count": null,
            "_view_module": "@jupyter-widgets/output",
            "_view_module_version": "1.0.0",
            "_view_name": "OutputView",
            "layout": "IPY_MODEL_2aa938d2c1e94df3b7809ec804458275",
            "msg_id": "",
            "outputs": [
              {
                "output_type": "display_data",
                "data": {
                  "text/plain": "                                                                                                                   \n \u001b[1m \u001b[0m\u001b[1mProgress                 \u001b[0m\u001b[1m \u001b[0m \u001b[1m \u001b[0m\u001b[1mDraws\u001b[0m\u001b[1m \u001b[0m \u001b[1m \u001b[0m\u001b[1mDivergences\u001b[0m\u001b[1m \u001b[0m \u001b[1m \u001b[0m\u001b[1mStep size\u001b[0m\u001b[1m \u001b[0m \u001b[1m \u001b[0m\u001b[1mGrad evals\u001b[0m\u001b[1m \u001b[0m \u001b[1m \u001b[0m\u001b[1mSampling Speed\u001b[0m\u001b[1m \u001b[0m \u001b[1m \u001b[0m\u001b[1mElapsed\u001b[0m\u001b[1m \u001b[0m \u001b[1m \u001b[0m\u001b[1mRemaining\u001b[0m\u001b[1m \u001b[0m \n ───────────────────────────────────────────────────────────────────────────────────────────────────────────────── \n  \u001b[38;2;214;39;40m━━━━━━━━━━━━━━━━━━━━━━━━━\u001b[0m   2000    266           0.05        36           55.74 draws/s    0:00:35   0:00:00    \n  \u001b[38;2;214;39;40m━━━━━━━━━━━━━━━━━━━━━━━━━\u001b[0m   2000    114           0.08        127          25.74 draws/s    0:01:17   0:00:00    \n                                                                                                                   \n",
                  "text/html": "<pre style=\"white-space:pre;overflow-x:auto;line-height:normal;font-family:Menlo,'DejaVu Sans Mono',consolas,'Courier New',monospace\">                                                                                                                   \n <span style=\"font-weight: bold\"> Progress                  </span> <span style=\"font-weight: bold\"> Draws </span> <span style=\"font-weight: bold\"> Divergences </span> <span style=\"font-weight: bold\"> Step size </span> <span style=\"font-weight: bold\"> Grad evals </span> <span style=\"font-weight: bold\"> Sampling Speed </span> <span style=\"font-weight: bold\"> Elapsed </span> <span style=\"font-weight: bold\"> Remaining </span> \n ───────────────────────────────────────────────────────────────────────────────────────────────────────────────── \n  <span style=\"color: #d62728; text-decoration-color: #d62728\">━━━━━━━━━━━━━━━━━━━━━━━━━</span>   2000    266           0.05        36           55.74 draws/s    0:00:35   0:00:00    \n  <span style=\"color: #d62728; text-decoration-color: #d62728\">━━━━━━━━━━━━━━━━━━━━━━━━━</span>   2000    114           0.08        127          25.74 draws/s    0:01:17   0:00:00    \n                                                                                                                   \n</pre>\n"
                },
                "metadata": {}
              }
            ]
          }
        },
        "2aa938d2c1e94df3b7809ec804458275": {
          "model_module": "@jupyter-widgets/base",
          "model_name": "LayoutModel",
          "model_module_version": "1.2.0",
          "state": {
            "_model_module": "@jupyter-widgets/base",
            "_model_module_version": "1.2.0",
            "_model_name": "LayoutModel",
            "_view_count": null,
            "_view_module": "@jupyter-widgets/base",
            "_view_module_version": "1.2.0",
            "_view_name": "LayoutView",
            "align_content": null,
            "align_items": null,
            "align_self": null,
            "border": null,
            "bottom": null,
            "display": null,
            "flex": null,
            "flex_flow": null,
            "grid_area": null,
            "grid_auto_columns": null,
            "grid_auto_flow": null,
            "grid_auto_rows": null,
            "grid_column": null,
            "grid_gap": null,
            "grid_row": null,
            "grid_template_areas": null,
            "grid_template_columns": null,
            "grid_template_rows": null,
            "height": null,
            "justify_content": null,
            "justify_items": null,
            "left": null,
            "margin": null,
            "max_height": null,
            "max_width": null,
            "min_height": null,
            "min_width": null,
            "object_fit": null,
            "object_position": null,
            "order": null,
            "overflow": null,
            "overflow_x": null,
            "overflow_y": null,
            "padding": null,
            "right": null,
            "top": null,
            "visibility": null,
            "width": null
          }
        }
      }
    }
  },
  "nbformat": 4,
  "nbformat_minor": 5
}