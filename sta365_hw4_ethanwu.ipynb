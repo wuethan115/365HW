{
  "cells": [
    {
      "cell_type": "markdown",
      "id": "c1d59112",
      "metadata": {
        "id": "c1d59112"
      },
      "source": [
        "## Homework\n",
        "\n",
        "---\n",
        "\n",
        "### Q1\n",
        "\n",
        "Convert your **Gibbs sampler** from the previous homework to be a **Metropolis within Gibbs** sampler.\n",
        "- Do not derive any full conditionals and instead just use the joint distribution which is the product of the likelihood with the priors\n",
        "    - Note that in fact you must only be proportional to the joint since irrelevant priors of \"the other parameter\" will cancel in the ratio\n",
        "- Note that $\\tau$ must be positive so proposals $\\tilde \\tau$ must also be positive. The easiest way to achieve this would be to use independent samples (that do not depend on $\\tau^{(t-1)}$ from exponential, half normal, gamma, or inverse gamma distributions (and other distributions defining strictly positive random variables).\n",
        "- When considering using independent proposal distributions one option of some note is to use the prior $p(\\tau)$ as this proposal distribution\n",
        "\n",
        "*Clearly articulate your specification and provide a demonstration showing the Bayesian inference it provides, in contrast to that of your previous Gibbs sampler (of Q2 from the last homework).*\n",
        "\n",
        "\n",
        "\n"
      ]
    },
    {
      "cell_type": "code",
      "source": [
        "# Q1\n",
        "import numpy as np\n",
        "import matplotlib.pyplot as plt\n",
        "from scipy import stats\n",
        "\n",
        "# Initialization #\n",
        "n = 30\n",
        "m = 5\n",
        "s = 2\n",
        "theta_0 = 5\n",
        "tau_0 = 1\n",
        "alpha = 2\n",
        "lmbda = 2\n",
        "\n",
        "# Data Generation #\n",
        "x = stats.norm(loc = m, scale = s).rvs(size = n)\n",
        "C, G = 2, 10000\n",
        "theta, tau = np.zeros([C, G]), np.zeros([C, G])\n",
        "theta[:, 0] = x.mean()\n",
        "tau[:, 0] = 1 / s**2\n",
        "\n",
        "# Metropolis within Gibbs #\n",
        "for c in range(C):\n",
        "    for g in range(1, G):\n",
        "        def tau_target(tau_):\n",
        "            if tau_ <= 0:\n",
        "                return 0 # non-negative required\n",
        "            likelihood = np.prod(stats.norm(loc = theta[c, g - 1],\n",
        "                                            scale = (1 / tau_) ** 0.5).pdf(x))\n",
        "            prior = stats.gamma(a = alpha / 2, scale = 2 / lmbda).pdf(tau_)\n",
        "            return likelihood * prior\n",
        "\n",
        "        tau_proposal = stats.gamma(a = 5, scale = 0.1)\n",
        "        tau_tilde = tau_proposal.rvs()\n",
        "\n",
        "        mh_ratio = (tau_target(tau_tilde) / tau_target(tau[c, g - 1])) * \\\n",
        "                   (tau_proposal.pdf(tau[c, g - 1])/tau_proposal.pdf(tau_tilde))\n",
        "\n",
        "        acceptance_probability = min(1, mh_ratio)\n",
        "        if stats.uniform().rvs() < acceptance_probability:\n",
        "            tau[c, g] = tau_tilde\n",
        "        else:\n",
        "            tau[c, g] = tau[c, g - 1]\n",
        "\n",
        "        # Theta #\n",
        "        theta_mean = (tau[c, g] * np.sum(x) +\n",
        "                      tau_0 * theta_0) / (n * tau[c, g] + tau_0)\n",
        "        theta_sd = np.sqrt(1 / (n * tau[c, g] + tau_0))\n",
        "        theta[c, g] = stats.norm(loc = theta_mean, scale = theta_sd).rvs()\n",
        "\n",
        "# Plots #\n",
        "fig, ax = plt.subplots(1, 2, figsize=(12, 4))\n",
        "ax[0].hist(theta[:, 1000:].flatten(), bins = 50,\n",
        "           density = True, alpha = 0.7, label = r\"$\\theta$\")\n",
        "ax[1].hist(tau[:, 1000:].flatten(), bins=50,\n",
        "           density = True, alpha = 0.7, label = r\"$\\tau$\")\n",
        "ax[0].set_title(r\"Posterior Distribution of $\\theta$\")\n",
        "ax[1].set_title(r\"Posterior Distribution of $\\tau$\")\n",
        "ax[0].legend()\n",
        "ax[1].legend()\n",
        "plt.show()\n"
      ],
      "metadata": {
        "colab": {
          "base_uri": "https://localhost:8080/",
          "height": 391
        },
        "id": "lHz2MBXvx7Yw",
        "outputId": "086a217b-800c-419f-aa42-990d312bd4c2"
      },
      "id": "lHz2MBXvx7Yw",
      "execution_count": 1,
      "outputs": [
        {
          "output_type": "display_data",
          "data": {
            "text/plain": [
              "<Figure size 1200x400 with 2 Axes>"
            ],
            "image/png": "[encoded data removed]"
          },
          "metadata": {}
        }
      ]
    },
    {
      "cell_type": "markdown",
      "source": [
        "### Q2\n",
        "\n",
        "Adjust your **Metropolis within Gibbs** sampler as follows.\n",
        "\n",
        "- Use the following **dependent** proposal for $\\tau$\n",
        "\n",
        "```Python\n",
        "stats.truncnorm(a=-tau_t_minus_1/s, b=np.inf,\n",
        "                loc=tau_t_minus_1, scale=s)\n",
        "```\n",
        "\n",
        "- Use a prior for $\\theta$ that is not a normal distribution\n",
        "\n",
        "\n",
        "*Provide a demonstration showing the Bayesian inference provided by this sampler. Then discuss the necessity (or lackthereof) of analytically determining the full conditional distributions when performing Gibbs sampling.*"
      ],
      "metadata": {
        "id": "SaJqvo6Ix1ut"
      },
      "id": "SaJqvo6Ix1ut"
    },
    {
      "cell_type": "code",
      "source": [
        "# Q2\n",
        "import numpy as np\n",
        "import matplotlib.pyplot as plt\n",
        "from scipy import stats\n",
        "\n",
        "# Initialize #\n",
        "n = 30\n",
        "m = 5\n",
        "s = 2\n",
        "theta_0 = 5\n",
        "tau_0 = 1\n",
        "alpha = 2\n",
        "lmbda = 2\n",
        "lambda_theta = 1\n",
        "\n",
        "# Data Generation #\n",
        "x = stats.norm(loc = m, scale = s).rvs(size = n)\n",
        "C, G = 2, 10000\n",
        "theta, tau = np.zeros([C, G]), np.zeros([C, G])\n",
        "theta[:, 0] = x.mean()\n",
        "tau[:, 0] = 1 / s**2\n",
        "\n",
        "# Metropolis within Gibbs #\n",
        "for c in range(C):\n",
        "    for g in range(1, G):\n",
        "        tau_t_minus_1 = tau[c, g - 1]\n",
        "        a, b = -tau_t_minus_1 / s, np.inf\n",
        "        tau_tilde = stats.truncnorm(a = a, b = b, loc = tau_t_minus_1,\n",
        "                                    scale = s).rvs()\n",
        "\n",
        "        def tau_target(tau_):\n",
        "            if tau_ <= 0:\n",
        "                return 0  # non-negative required\n",
        "            likelihood = np.prod(stats.norm(loc = theta[c, g - 1],\n",
        "                                            scale = (1 / tau_) ** 0.5).pdf(x))\n",
        "            prior = stats.gamma(a = alpha / 2, scale = 2 / lmbda).pdf(tau_)\n",
        "            return likelihood * prior\n",
        "\n",
        "        mh_ratio = tau_target(tau_tilde) / tau_target(tau_t_minus_1)\n",
        "        acceptance_probability = min(1, mh_ratio)\n",
        "        if stats.uniform().rvs() < acceptance_probability:\n",
        "            tau[c, g] = tau_tilde\n",
        "        else:\n",
        "            tau[c, g] = tau_t_minus_1\n",
        "\n",
        "        theta_t_minus_1 = theta[c, g - 1]\n",
        "        theta_tilde = stats.norm(loc = theta_t_minus_1, scale = 1).rvs()\n",
        "\n",
        "        def theta_target(theta_):\n",
        "            likelihood = np.prod(stats.norm(loc = theta_,\n",
        "                                            scale = (1 / tau[c, g]) ** 0.5).pdf(x))\n",
        "            prior = np.exp(-lambda_theta * abs(theta_))\n",
        "            return likelihood * prior\n",
        "\n",
        "        mh_ratio = theta_target(theta_tilde) / theta_target(theta_t_minus_1)\n",
        "        acceptance_probability = min(1, mh_ratio)\n",
        "        if stats.uniform().rvs() < acceptance_probability:\n",
        "            theta[c, g] = theta_tilde\n",
        "        else:\n",
        "            theta[c, g] = theta_t_minus_1\n",
        "\n",
        "# Plots #\n",
        "fig, ax = plt.subplots(1, 2, figsize=(12, 4))\n",
        "ax[0].hist(theta[:, 1000:].flatten(), bins = 50, density = True,\n",
        "           alpha = 0.7, label = r\"$\\theta$\")\n",
        "ax[1].hist(tau[:, 1000:].flatten(), bins = 50, density = True,\n",
        "           alpha = 0.7, label = r\"$\\tau$\")\n",
        "ax[0].set_title(r\"Posterior Distribution of $\\theta$\")\n",
        "ax[1].set_title(r\"Posterior Distribution of $\\tau$\")\n",
        "ax[0].legend()\n",
        "ax[1].legend()\n",
        "plt.show()"
      ],
      "metadata": {
        "colab": {
          "base_uri": "https://localhost:8080/",
          "height": 391
        },
        "id": "JPY7tcS12tDR",
        "outputId": "5ab1f021-e02b-4692-c38d-e03f79c5f2f1"
      },
      "id": "JPY7tcS12tDR",
      "execution_count": 4,
      "outputs": [
        {
          "output_type": "display_data",
          "data": {
            "text/plain": [
              "<Figure size 1200x400 with 2 Axes>"
            ],
            "image/png": "[encoded data removed]"
          },
          "metadata": {}
        }
      ]
    },
    {
      "cell_type": "markdown",
      "source": [
        "### Q3\n",
        "\n",
        "For **Metropolis Hastings** targetting (**stationary distribution**) $p$ based on proposal distribuiton $q$ given below\n",
        "\n",
        "$\\begin{align}\n",
        "q(\\tilde x^{(t)} | x^{(t-1)}) &={} \\left(\\frac{1}{2}\\right)^{1-{\\tilde x^{(t)}}}\\left(\\frac{1}{2}\\right)^{\\tilde x^{(t)}} \\quad \\color{gray}{\\textrm{ ... does } \\quad \\frac{q(x^{(t-1)}|\\tilde x^{(t)})}{q(\\tilde x^{(t)}|x^{(t-1)})} \\quad  \\textrm{ cancel?}}\\\\\n",
        "\\textrm{and} \\quad p(x^{(t)}) &={} \\left(\\frac{1}{3}\\right)^{1-{x^{(t)}}}\\left(\\frac{2}{3}\\right)^{x^{(t)}}\\\\\n",
        "\\end{align}$\n",
        "\n",
        "<u>show that</u> the **transition kernel** $K$ of transition probabilities is defined the **Metropolis Hastings** algorithm is\n",
        "\n",
        "$K = \\left[\\begin{array}{cc}\\Pr(x^{(t)}=0 \\rightarrow x^{(t+1)}=0) & \\Pr(x^{(t)}=1 \\rightarrow x^{(t+1)}=0)\\\\\\Pr(x^{(t)}=0 \\rightarrow x^{(t+1)}=1)& \\Pr(x^{(t)}=1 \\rightarrow x^{(t+1)}=1)\\end{array}\\right] = \\left[\\begin{array}{cl} 0.5 & 0.25 \\\\ 0.5 & 0.75 \\end{array}\\right]$\n",
        "\n",
        "> For example\n",
        ">\n",
        "> $\\begin{align}\n",
        "\\Pr(s_1 \\rightarrow s_1) &={}\n",
        "q(\\tilde x^{(t)}=1 | x^{(t-1)}=1) + q(\\tilde x^{(t)}=0 | x^{(t-1)}=1) \\left(1- \\frac{p(\\tilde x^{(t)}=0)}{p(x^{(t-1)}=1)}\\right)\\\\\n",
        "&={} 1/2 + (1/2)(1-(1/3)/(2/3)) = 0.75\n",
        "\\end{align}$"
      ],
      "metadata": {
        "id": "_4IuuLcU2uK7"
      },
      "id": "_4IuuLcU2uK7"
    },
    {
      "cell_type": "markdown",
      "id": "eba2010c",
      "metadata": {
        "id": "eba2010c"
      },
      "source": [
        "This **transition kernel** $K$ means that\n",
        "\n",
        "- if we're currently a $0$ there's a 50\\% chance that we'll stay a $0$ and 50\\% chance that we'll change to a $1$\n",
        "- and if we're currently a $1$ there's a 75\\% chance that we'll stay a $1$ and 25\\% chance that we'll change to a $0$\n",
        "\n",
        "which specifies [geometric distributions](https://en.wikipedia.org/wiki/Geometric_distribution) with, respectively, expected values of $1$ and $3$ \"failures before transitioning to the other state\" which means that on average a \"$0$ state\" will be a run of two $0$'s while a \"$1$ state\" will be a run of four $1$'s which leads to the desired one-to-two (or one-thirds to two-thirds) ratio of $0$'s and $1$ is the Markov Chain.\n"
      ]
    },
    {
      "cell_type": "markdown",
      "source": [
        "## Q3 Answer\n",
        "\n",
        "### Proposal Distribution:\n",
        "\n",
        "$q\\left(x^{(t)}|x^{(t-1)}\\right)=\\left(\\frac12\\right)^{1-x^{(t)}}\\left(\\frac12\\right)^{x^{(t)}}$\n",
        "\n",
        "We thus have the following:\n",
        "\n",
        "$q(0|0)=\\frac12, q(0|1)=\\frac12, q(1|0)=\\frac12, q(1|1)=\\frac12$\n",
        "\n",
        "Therefore, it can be seen that the proposal distribution is summetric. This will cancel in the Metropolis-Hastings ratio.\n",
        "\n",
        "### Stationary Distribution\n",
        "\n",
        "$p\\left(x^{(t)}\\right)=\\left(\\frac13\\right)^{1-x^{(t)}}\\left(\\frac23\\right)^{x^{(t)}}$\n",
        "\n",
        "We thus have the following:\n",
        "\n",
        "$p(0)=\\frac13, p(1)=\\frac23$\n",
        "\n",
        "### Acceptance Probabilities\n",
        "\n",
        "$P\\left(x^{(t-1)}\\to x^{(t)}\\right)=\\text{min}\\left(1,\\frac{p\\left(x^{(t)}\\right)}{p\\left(x^{(t-1)}\\right)}\\right)$\n",
        "\n",
        "$P(0\\to1)=\\text{min}\\left(1,\\frac{p(1)}{p(0)}\\right)=\\text{min}\\left(1, \\frac{\\frac23}{\\frac13}\\right)=\\text{min}(1, 2)=1$\n",
        "\n",
        "$P(1\\to0)=\\text{min}\\left(1,\\frac{p(0)}{p(1)}\\right)=\\text{min}\\left(1, \\frac{\\frac13}{\\frac23}\\right)=\\text{min}(1, \\frac12)=\\frac12$\n",
        "\n",
        "### Transition Kernel\n",
        "\n",
        "Probability of Staying at 0:\n",
        "\n",
        "$P\\left(x^{(t)}=0\\to x^{(t+1)}=0\\right)=q(0|0)+q(1|0)(1-P(0\\to1))=\\frac12$\n",
        "\n",
        "Probability of Staying at 1:\n",
        "\n",
        "$P\\left(x^{(t)}=1\\to x^{(t+1)}=1\\right)=q(1|1)+q(0|1)(1-P(1\\to0))=\\frac12+\\left(\\frac12\\right)^2=\\frac34$\n",
        "\n",
        "Probability of transitioning from 0 to 1:\n",
        "\n",
        "$P\\left(x^{(t)}=0\\to x^{(t+1)}=1\\right)=q(1|0)P(0\\to 1)=\\frac12(1)=\\frac12$\n",
        "\n",
        "Probability of transitioning from 1 to 0:\n",
        "\n",
        "$P\\left(x^{(t)}=1\\to x^{(t+1)}=0\\right)=q(0|1)P(1\\to 0)=\\left(\\frac12\\right)^2=\\frac14$\n",
        "\n",
        "### Transition Matrix\n",
        "\n",
        "$\\begin{bmatrix}P(0\\to0) & P(0\\to 1)\\\\P(1\\to 0) & P(1\\to 1)\\end{bmatrix}=\\begin{bmatrix}0.5 & 0.5\\\\0.25 & 0.75\\end{bmatrix}$\n",
        "\n",
        "\n",
        "\n",
        "\n",
        "\n",
        "\n",
        "\n"
      ],
      "metadata": {
        "id": "rPaZcs6K25Ts"
      },
      "id": "rPaZcs6K25Ts"
    }
  ],
  "metadata": {
    "kernelspec": {
      "display_name": "Python 3 (ipykernel)",
      "language": "python",
      "name": "python3"
    },
    "language_info": {
      "codemirror_mode": {
        "name": "ipython",
        "version": 3
      },
      "file_extension": ".py",
      "mimetype": "text/x-python",
      "name": "python",
      "nbconvert_exporter": "python",
      "pygments_lexer": "ipython3",
      "version": "3.11.4"
    },
    "colab": {
      "provenance": []
    }
  },
  "nbformat": 4,
  "nbformat_minor": 5
}